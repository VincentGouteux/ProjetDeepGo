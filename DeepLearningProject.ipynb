{
  "nbformat": 4,
  "nbformat_minor": 0,
  "metadata": {
    "colab": {
      "name": "DeepLearningProject_Gouteux.ipynb",
      "provenance": [],
      "collapsed_sections": []
    },
    "kernelspec": {
      "name": "python3",
      "display_name": "Python 3"
    },
    "accelerator": "GPU"
  },
  "cells": [
    {
      "cell_type": "markdown",
      "metadata": {
        "id": "CuRTp07iezsP",
        "colab_type": "text"
      },
      "source": [
        "Voici le code final du projet de DeepLearning. Les résultats obtenus l'ont été après enormémenent de phases d'entrainements et ne sont pas issus de ce code. Cependant le reseau final a une architecture exactement semblable à celui créé dans ce code. Par soucis de temps le code n'a pas été compilé mais retrace toute l'experimentation qui a été faite durant ce projet. Les differents tests étant très couteux en calculs ont étés fait dans des notebooks paralleles et nous n'avons gardé que l'essentiel. "
      ]
    },
    {
      "cell_type": "code",
      "metadata": {
        "id": "5Oq9L8zCdBKc",
        "colab_type": "code",
        "outputId": "ed491713-9f10-49c3-ef36-2cddc2ffb229",
        "colab": {
          "base_uri": "https://localhost:8080/",
          "height": 98
        }
      },
      "source": [
        "pip install pybind11"
      ],
      "execution_count": 2,
      "outputs": [
        {
          "output_type": "stream",
          "text": [
            "Collecting pybind11\n",
            "\u001b[?25l  Downloading https://files.pythonhosted.org/packages/4b/4d/ae1c4d8e8b139afa9682054dd42df3b0e3b5c1731287933021b9fd7e9cc4/pybind11-2.4.3-py2.py3-none-any.whl (150kB)\n",
            "\r\u001b[K     |██▏                             | 10kB 29.7MB/s eta 0:00:01\r\u001b[K     |████▍                           | 20kB 827kB/s eta 0:00:01\r\u001b[K     |██████▌                         | 30kB 1.2MB/s eta 0:00:01\r\u001b[K     |████████▊                       | 40kB 805kB/s eta 0:00:01\r\u001b[K     |███████████                     | 51kB 940kB/s eta 0:00:01\r\u001b[K     |█████████████                   | 61kB 1.1MB/s eta 0:00:01\r\u001b[K     |███████████████▎                | 71kB 1.2MB/s eta 0:00:01\r\u001b[K     |█████████████████▌              | 81kB 1.3MB/s eta 0:00:01\r\u001b[K     |███████████████████▋            | 92kB 1.5MB/s eta 0:00:01\r\u001b[K     |█████████████████████▉          | 102kB 1.3MB/s eta 0:00:01\r\u001b[K     |████████████████████████        | 112kB 1.3MB/s eta 0:00:01\r\u001b[K     |██████████████████████████▏     | 122kB 1.3MB/s eta 0:00:01\r\u001b[K     |████████████████████████████▍   | 133kB 1.3MB/s eta 0:00:01\r\u001b[K     |██████████████████████████████▋ | 143kB 1.3MB/s eta 0:00:01\r\u001b[K     |████████████████████████████████| 153kB 1.3MB/s \n",
            "\u001b[?25hInstalling collected packages: pybind11\n",
            "Successfully installed pybind11-2.4.3\n"
          ],
          "name": "stdout"
        }
      ]
    },
    {
      "cell_type": "code",
      "metadata": {
        "id": "fHZpfsv9dQi8",
        "colab_type": "code",
        "outputId": "63b19b67-f05f-4e7b-e2ac-d7eba8f116ab",
        "colab": {
          "base_uri": "https://localhost:8080/",
          "height": 118
        }
      },
      "source": [
        "#Connect to our own Google Drive\n",
        "from google.colab import drive\n",
        "drive.mount('/content/gdrive')"
      ],
      "execution_count": 3,
      "outputs": [
        {
          "output_type": "stream",
          "text": [
            "Go to this URL in a browser: https://accounts.google.com/o/oauth2/auth?client_id=947318989803-6bn6qk8qdgf4n4g3pfee6491hc0brc4i.apps.googleusercontent.com&redirect_uri=urn%3aietf%3awg%3aoauth%3a2.0%3aoob&response_type=code&scope=email%20https%3a%2f%2fwww.googleapis.com%2fauth%2fdocs.test%20https%3a%2f%2fwww.googleapis.com%2fauth%2fdrive%20https%3a%2f%2fwww.googleapis.com%2fauth%2fdrive.photos.readonly%20https%3a%2f%2fwww.googleapis.com%2fauth%2fpeopleapi.readonly\n",
            "\n",
            "Enter your authorization code:\n",
            "··········\n",
            "Mounted at /content/gdrive\n"
          ],
          "name": "stdout"
        }
      ]
    },
    {
      "cell_type": "code",
      "metadata": {
        "id": "n_ZvRO-TewS9",
        "colab_type": "code",
        "outputId": "0a21dc15-2770-4430-d030-9f9316bd8731",
        "colab": {
          "base_uri": "https://localhost:8080/",
          "height": 326
        }
      },
      "source": [
        "%cd \"/content/gdrive/My Drive/DeepLearningProject/\"\n",
        "!ls"
      ],
      "execution_count": 4,
      "outputs": [
        {
          "output_type": "stream",
          "text": [
            "/content/gdrive/My Drive/DeepLearningProject\n",
            "Alphgit.h5\t\t\t\tgolois_res.py\t     model_SGD0_1.h5\n",
            "AlphgoYt.h5\t\t\t\tgolois_test.py\t     policy.npy\n",
            "Best2ful.h5\t\t\t\tGouteuxcool.h5\t     ProjetGo.ipynb\n",
            "Board.h\t\t\t\t\tGouteuxcoolUP.h5     Projet.ipynb\n",
            "caz2relu.h5\t\t\t\tGouteuxFinal2\t     __pycache__\n",
            "compileMAC.sh\t\t\t\tGouteuxFinal2.h5     README\n",
            "compile.sh\t\t\t\tGouteuxFinal3.h5     Rzone.h\n",
            "convert\t\t\t\t\tGouteuxFinal4.h5     save.py\n",
            "convert.cpp\t\t\t\tGouteuxFinal5.h5     setup.py\n",
            "dernierbest2.h5\t\t\t\tGouteuxFinal6.h5     testCaz.h5\n",
            "dernierbest.h5\t\t\t\tGouteuxFinal7.h5     testCazRes2.h5\n",
            "end.npy\t\t\t\t\tGouteuxFinal.h5      testCazRes.h5\n",
            "Game.h\t\t\t\t\tGouteuxFinalTrained  TESTGO2712bis.h5\n",
            "games.data\t\t\t\tinput_data.npy\t     TESTGO2712.h5\n",
            "games.txt\t\t\t\tLeBonOriginal.h5     test.h5\n",
            "golois.cpp\t\t\t\tls.sh\t\t     value.npy\n",
            "golois.cpython-36m-x86_64-linux-gnu.so\tmodel_11_dec.h5\n",
            "golois.cpython-37m-x86_64-linux-gnu.so\tmodel_4.8.h5\n"
          ],
          "name": "stdout"
        }
      ]
    },
    {
      "cell_type": "code",
      "metadata": {
        "id": "qsglAGDwewva",
        "colab_type": "code",
        "outputId": "09d67dfd-dc42-48a1-8cc0-75eb56697892",
        "colab": {
          "base_uri": "https://localhost:8080/",
          "height": 1000
        }
      },
      "source": [
        " ! c++ -O3 -Wall -shared -std=c++11 -fPIC `python3 -m pybind11 --includes` golois.cpp -o golois`python3-config --extension-suffix`"
      ],
      "execution_count": 5,
      "outputs": [
        {
          "output_type": "stream",
          "text": [
            "In file included from \u001b[01m\u001b[Kgolois.cpp:17:0\u001b[m\u001b[K:\n",
            "\u001b[01m\u001b[KBoard.h:\u001b[m\u001b[K In member function ‘\u001b[01m\u001b[Kbool Board::isCapturedLadder(int, int, Rzone*)\u001b[m\u001b[K’:\n",
            "\u001b[01m\u001b[KBoard.h:1742:8:\u001b[m\u001b[K \u001b[01;35m\u001b[Kwarning: \u001b[m\u001b[Kunused variable ‘\u001b[01m\u001b[Kn1\u001b[m\u001b[K’ [\u001b[01;35m\u001b[K-Wunused-variable\u001b[m\u001b[K]\n",
            "    int \u001b[01;35m\u001b[Kn1\u001b[m\u001b[K = nbLiberties (inter, liberties1, stones1, 3);\n",
            "        \u001b[01;35m\u001b[K^~\u001b[m\u001b[K\n",
            "\u001b[01m\u001b[KBoard.h:1763:12:\u001b[m\u001b[K \u001b[01;35m\u001b[Kwarning: \u001b[m\u001b[Kunused variable ‘\u001b[01m\u001b[Kn1\u001b[m\u001b[K’ [\u001b[01;35m\u001b[K-Wunused-variable\u001b[m\u001b[K]\n",
            "        int \u001b[01;35m\u001b[Kn1\u001b[m\u001b[K = nbLiberties (inter, liberties1, stones1, 3);\n",
            "            \u001b[01;35m\u001b[K^~\u001b[m\u001b[K\n",
            "\u001b[01m\u001b[KBoard.h:\u001b[m\u001b[K In member function ‘\u001b[01m\u001b[Kvoid Board::computeLadders(int)\u001b[m\u001b[K’:\n",
            "\u001b[01m\u001b[KBoard.h:1792:9:\u001b[m\u001b[K \u001b[01;35m\u001b[Kwarning: \u001b[m\u001b[Kunused variable ‘\u001b[01m\u001b[Kother\u001b[m\u001b[K’ [\u001b[01;35m\u001b[K-Wunused-variable\u001b[m\u001b[K]\n",
            "     int \u001b[01;35m\u001b[Kother\u001b[m\u001b[K = opponent (color);\n",
            "         \u001b[01;35m\u001b[K^~~~~\u001b[m\u001b[K\n",
            "\u001b[01m\u001b[KBoard.h:\u001b[m\u001b[K In member function ‘\u001b[01m\u001b[Kvoid Board::computeAllLadders(int, bool)\u001b[m\u001b[K’:\n",
            "\u001b[01m\u001b[KBoard.h:2038:9:\u001b[m\u001b[K \u001b[01;35m\u001b[Kwarning: \u001b[m\u001b[Kunused variable ‘\u001b[01m\u001b[Kn1\u001b[m\u001b[K’ [\u001b[01;35m\u001b[K-Wunused-variable\u001b[m\u001b[K]\n",
            "     int \u001b[01;35m\u001b[Kn1\u001b[m\u001b[K = nbLiberties (i, liberties1, stones1);\n",
            "         \u001b[01;35m\u001b[K^~\u001b[m\u001b[K\n",
            "\u001b[01m\u001b[KBoard.h:2074:7:\u001b[m\u001b[K \u001b[01;35m\u001b[Kwarning: \u001b[m\u001b[Kunused variable ‘\u001b[01m\u001b[Kn1\u001b[m\u001b[K’ [\u001b[01;35m\u001b[K-Wunused-variable\u001b[m\u001b[K]\n",
            "   int \u001b[01;35m\u001b[Kn1\u001b[m\u001b[K = nbLiberties (i, liberties1, stones1);\n",
            "       \u001b[01;35m\u001b[K^~\u001b[m\u001b[K\n",
            "\u001b[01m\u001b[KBoard.h:2107:9:\u001b[m\u001b[K \u001b[01;35m\u001b[Kwarning: \u001b[m\u001b[Kunused variable ‘\u001b[01m\u001b[Kn1\u001b[m\u001b[K’ [\u001b[01;35m\u001b[K-Wunused-variable\u001b[m\u001b[K]\n",
            "     int \u001b[01;35m\u001b[Kn1\u001b[m\u001b[K = nbLiberties (i, liberties1, stones1);\n",
            "         \u001b[01;35m\u001b[K^~\u001b[m\u001b[K\n",
            "\u001b[01m\u001b[KBoard.h:2144:7:\u001b[m\u001b[K \u001b[01;35m\u001b[Kwarning: \u001b[m\u001b[Kunused variable ‘\u001b[01m\u001b[Kn1\u001b[m\u001b[K’ [\u001b[01;35m\u001b[K-Wunused-variable\u001b[m\u001b[K]\n",
            "   int \u001b[01;35m\u001b[Kn1\u001b[m\u001b[K = nbLiberties (i, liberties1, stones1);\n",
            "       \u001b[01;35m\u001b[K^~\u001b[m\u001b[K\n",
            "\u001b[01m\u001b[KBoard.h:\u001b[m\u001b[K In member function ‘\u001b[01m\u001b[Kvoid Board::printLadders(FILE*, int)\u001b[m\u001b[K’:\n",
            "\u001b[01m\u001b[KBoard.h:2216:9:\u001b[m\u001b[K \u001b[01;35m\u001b[Kwarning: \u001b[m\u001b[Kunused variable ‘\u001b[01m\u001b[Kother\u001b[m\u001b[K’ [\u001b[01;35m\u001b[K-Wunused-variable\u001b[m\u001b[K]\n",
            "     int \u001b[01;35m\u001b[Kother\u001b[m\u001b[K = opponent (color);\n",
            "         \u001b[01;35m\u001b[K^~~~~\u001b[m\u001b[K\n",
            "\u001b[01m\u001b[KBoard.h:\u001b[m\u001b[K In member function ‘\u001b[01m\u001b[Kbool Board::sameString(int, int)\u001b[m\u001b[K’:\n",
            "\u001b[01m\u001b[KBoard.h:2265:9:\u001b[m\u001b[K \u001b[01;35m\u001b[Kwarning: \u001b[m\u001b[Kunused variable ‘\u001b[01m\u001b[Kn\u001b[m\u001b[K’ [\u001b[01;35m\u001b[K-Wunused-variable\u001b[m\u001b[K]\n",
            "     int \u001b[01;35m\u001b[Kn\u001b[m\u001b[K = nbLiberties (inter, liberties, stones);\n",
            "         \u001b[01;35m\u001b[K^\u001b[m\u001b[K\n",
            "\u001b[01m\u001b[KBoard.h:\u001b[m\u001b[K In member function ‘\u001b[01m\u001b[Kbool Board::atariLent(int)\u001b[m\u001b[K’:\n",
            "\u001b[01m\u001b[KBoard.h:2584:10:\u001b[m\u001b[K \u001b[01;35m\u001b[Kwarning: \u001b[m\u001b[Ksuggest explicit braces to avoid ambiguous ‘\u001b[01m\u001b[Kelse\u001b[m\u001b[K’ [\u001b[01;35m\u001b[K-Wdangling-else\u001b[m\u001b[K]\n",
            "       if \u001b[01;35m\u001b[K(\u001b[m\u001b[Kboard [pierre - 1] == Empty)\n",
            "          \u001b[01;35m\u001b[K^\u001b[m\u001b[K\n",
            "\u001b[01m\u001b[KBoard.h:2587:10:\u001b[m\u001b[K \u001b[01;35m\u001b[Kwarning: \u001b[m\u001b[Ksuggest explicit braces to avoid ambiguous ‘\u001b[01m\u001b[Kelse\u001b[m\u001b[K’ [\u001b[01;35m\u001b[K-Wdangling-else\u001b[m\u001b[K]\n",
            "       if \u001b[01;35m\u001b[K(\u001b[m\u001b[Kboard [pierre + 1] == Empty)\n",
            "          \u001b[01;35m\u001b[K^\u001b[m\u001b[K\n",
            "\u001b[01m\u001b[KBoard.h:2590:10:\u001b[m\u001b[K \u001b[01;35m\u001b[Kwarning: \u001b[m\u001b[Ksuggest explicit braces to avoid ambiguous ‘\u001b[01m\u001b[Kelse\u001b[m\u001b[K’ [\u001b[01;35m\u001b[K-Wdangling-else\u001b[m\u001b[K]\n",
            "       if \u001b[01;35m\u001b[K(\u001b[m\u001b[Kboard [pierre - dxBoard] == Empty)\n",
            "          \u001b[01;35m\u001b[K^\u001b[m\u001b[K\n",
            "\u001b[01m\u001b[KBoard.h:2593:10:\u001b[m\u001b[K \u001b[01;35m\u001b[Kwarning: \u001b[m\u001b[Ksuggest explicit braces to avoid ambiguous ‘\u001b[01m\u001b[Kelse\u001b[m\u001b[K’ [\u001b[01;35m\u001b[K-Wdangling-else\u001b[m\u001b[K]\n",
            "       if \u001b[01;35m\u001b[K(\u001b[m\u001b[Kboard [pierre + dxBoard] == Empty)\n",
            "          \u001b[01;35m\u001b[K^\u001b[m\u001b[K\n",
            "\u001b[01m\u001b[KBoard.h:\u001b[m\u001b[K In member function ‘\u001b[01m\u001b[Kint Board::playAtariIfCapture(int)\u001b[m\u001b[K’:\n",
            "\u001b[01m\u001b[KBoard.h:2972:9:\u001b[m\u001b[K \u001b[01;35m\u001b[Kwarning: \u001b[m\u001b[Kunused variable ‘\u001b[01m\u001b[Kother\u001b[m\u001b[K’ [\u001b[01;35m\u001b[K-Wunused-variable\u001b[m\u001b[K]\n",
            "     int \u001b[01;35m\u001b[Kother\u001b[m\u001b[K = opponent (couleur);\n",
            "         \u001b[01;35m\u001b[K^~~~~\u001b[m\u001b[K\n",
            "\u001b[01m\u001b[KBoard.h:\u001b[m\u001b[K In member function ‘\u001b[01m\u001b[Kint Board::captureAdjacentAtari(int)\u001b[m\u001b[K’:\n",
            "\u001b[01m\u001b[KBoard.h:3028:9:\u001b[m\u001b[K \u001b[01;35m\u001b[Kwarning: \u001b[m\u001b[Kunused variable ‘\u001b[01m\u001b[Kother\u001b[m\u001b[K’ [\u001b[01;35m\u001b[K-Wunused-variable\u001b[m\u001b[K]\n",
            "     int \u001b[01;35m\u001b[Kother\u001b[m\u001b[K = opponent (couleur);\n",
            "         \u001b[01;35m\u001b[K^~~~~\u001b[m\u001b[K\n",
            "\u001b[01m\u001b[KBoard.h:\u001b[m\u001b[K In member function ‘\u001b[01m\u001b[Kint Board::captureAtari(int)\u001b[m\u001b[K’:\n",
            "\u001b[01m\u001b[KBoard.h:3064:9:\u001b[m\u001b[K \u001b[01;35m\u001b[Kwarning: \u001b[m\u001b[Kunused variable ‘\u001b[01m\u001b[Kother\u001b[m\u001b[K’ [\u001b[01;35m\u001b[K-Wunused-variable\u001b[m\u001b[K]\n",
            "     int \u001b[01;35m\u001b[Kother\u001b[m\u001b[K = opponent (couleur);\n",
            "         \u001b[01;35m\u001b[K^~~~~\u001b[m\u001b[K\n",
            "\u001b[01m\u001b[KBoard.h:\u001b[m\u001b[K In member function ‘\u001b[01m\u001b[Kint Board::avoidCaptureAtari(int)\u001b[m\u001b[K’:\n",
            "\u001b[01m\u001b[KBoard.h:3087:9:\u001b[m\u001b[K \u001b[01;35m\u001b[Kwarning: \u001b[m\u001b[Kunused variable ‘\u001b[01m\u001b[Kother\u001b[m\u001b[K’ [\u001b[01;35m\u001b[K-Wunused-variable\u001b[m\u001b[K]\n",
            "     int \u001b[01;35m\u001b[Kother\u001b[m\u001b[K = opponent (couleur);\n",
            "         \u001b[01;35m\u001b[K^~~~~\u001b[m\u001b[K\n",
            "\u001b[01m\u001b[KBoard.h:\u001b[m\u001b[K In member function ‘\u001b[01m\u001b[Kint Board::playout(int)\u001b[m\u001b[K’:\n",
            "\u001b[01m\u001b[KBoard.h:3223:7:\u001b[m\u001b[K \u001b[01;35m\u001b[Kwarning: \u001b[m\u001b[Kvariable ‘\u001b[01m\u001b[Km\u001b[m\u001b[K’ set but not used [\u001b[01;35m\u001b[K-Wunused-but-set-variable\u001b[m\u001b[K]\n",
            "  Move \u001b[01;35m\u001b[Km\u001b[m\u001b[K;\n",
            "       \u001b[01;35m\u001b[K^\u001b[m\u001b[K\n",
            "\u001b[01m\u001b[KBoard.h:3244:9:\u001b[m\u001b[K \u001b[01;35m\u001b[Kwarning: \u001b[m\u001b[Kunused variable ‘\u001b[01m\u001b[Ks\u001b[m\u001b[K’ [\u001b[01;35m\u001b[K-Wunused-variable\u001b[m\u001b[K]\n",
            "    char \u001b[01;35m\u001b[Ks\u001b[m\u001b[K [256];\n",
            "         \u001b[01;35m\u001b[K^\u001b[m\u001b[K\n",
            "\u001b[01m\u001b[KBoard.h:\u001b[m\u001b[K In member function ‘\u001b[01m\u001b[Kint Board::loadSGF(FILE*)\u001b[m\u001b[K’:\n",
            "\u001b[01m\u001b[KBoard.h:3623:8:\u001b[m\u001b[K \u001b[01;35m\u001b[Kwarning: \u001b[m\u001b[Kunused variable ‘\u001b[01m\u001b[Kres\u001b[m\u001b[K’ [\u001b[01;35m\u001b[K-Wunused-variable\u001b[m\u001b[K]\n",
            "    int \u001b[01;35m\u001b[Kres\u001b[m\u001b[K = sscanf (InsideBracket, \"%d\", &sz);\n",
            "        \u001b[01;35m\u001b[K^~~\u001b[m\u001b[K\n",
            "\u001b[01m\u001b[KBoard.h:3630:10:\u001b[m\u001b[K \u001b[01;35m\u001b[Kwarning: \u001b[m\u001b[Kunused variable ‘\u001b[01m\u001b[Kres\u001b[m\u001b[K’ [\u001b[01;35m\u001b[K-Wunused-variable\u001b[m\u001b[K]\n",
            "      int \u001b[01;35m\u001b[Kres\u001b[m\u001b[K = sscanf (InsideBracket, \"%d: %f\", &i, &v);\n",
            "          \u001b[01;35m\u001b[K^~~\u001b[m\u001b[K\n",
            "In file included from \u001b[01m\u001b[Kgolois.cpp:18:0\u001b[m\u001b[K:\n",
            "\u001b[01m\u001b[KGame.h:\u001b[m\u001b[K In function ‘\u001b[01m\u001b[Kvoid loadGamesData(char*)\u001b[m\u001b[K’:\n",
            "\u001b[01m\u001b[KGame.h:128:69:\u001b[m\u001b[K \u001b[01;35m\u001b[Kwarning: \u001b[m\u001b[Kformat ‘\u001b[01m\u001b[K%d\u001b[m\u001b[K’ expects argument of type ‘\u001b[01m\u001b[Kint*\u001b[m\u001b[K’, but argument 3 has type ‘\u001b[01m\u001b[Kshort int*\u001b[m\u001b[K’ [\u001b[01;35m\u001b[K-Wformat=\u001b[m\u001b[K]\n",
            "  fscanf (fp, \"%d %d\", \u001b[32m\u001b[K&proGame [g] [i].inter\u001b[m\u001b[K, &proGame [g] [i].color\u001b[01;35m\u001b[K)\u001b[m\u001b[K;\n",
            "                       \u001b[32m\u001b[K~~~~~~~~~~~~~~~~~~~~~~\u001b[m\u001b[K                        \u001b[01;35m\u001b[K^\u001b[m\u001b[K\n",
            "\u001b[01m\u001b[KGame.h:128:69:\u001b[m\u001b[K \u001b[01;35m\u001b[Kwarning: \u001b[m\u001b[Kformat ‘\u001b[01m\u001b[K%d\u001b[m\u001b[K’ expects argument of type ‘\u001b[01m\u001b[Kint*\u001b[m\u001b[K’, but argument 4 has type ‘\u001b[01m\u001b[Kchar*\u001b[m\u001b[K’ [\u001b[01;35m\u001b[K-Wformat=\u001b[m\u001b[K]\n",
            "\u001b[01m\u001b[KGame.h:\u001b[m\u001b[K In function ‘\u001b[01m\u001b[Kvoid loadGamesDataVal(char*)\u001b[m\u001b[K’:\n",
            "\u001b[01m\u001b[KGame.h:185:95:\u001b[m\u001b[K \u001b[01;35m\u001b[Kwarning: \u001b[m\u001b[Kformat ‘\u001b[01m\u001b[K%d\u001b[m\u001b[K’ expects argument of type ‘\u001b[01m\u001b[Kint*\u001b[m\u001b[K’, but argument 3 has type ‘\u001b[01m\u001b[Kshort int*\u001b[m\u001b[K’ [\u001b[01;35m\u001b[K-Wformat=\u001b[m\u001b[K]\n",
            "  fscanf (fp, \"%d %f %d \", \u001b[32m\u001b[K&proGame [g] [i].inter\u001b[m\u001b[K, &proGame [g] [i].val, &proGame [g] [i].color\u001b[01;35m\u001b[K)\u001b[m\u001b[K;\n",
            "                           \u001b[32m\u001b[K~~~~~~~~~~~~~~~~~~~~~~\u001b[m\u001b[K                                              \u001b[01;35m\u001b[K^\u001b[m\u001b[K\n",
            "\u001b[01m\u001b[KGame.h:185:95:\u001b[m\u001b[K \u001b[01;35m\u001b[Kwarning: \u001b[m\u001b[Kformat ‘\u001b[01m\u001b[K%d\u001b[m\u001b[K’ expects argument of type ‘\u001b[01m\u001b[Kint*\u001b[m\u001b[K’, but argument 5 has type ‘\u001b[01m\u001b[Kchar*\u001b[m\u001b[K’ [\u001b[01;35m\u001b[K-Wformat=\u001b[m\u001b[K]\n",
            "\u001b[01m\u001b[Kgolois.cpp:\u001b[m\u001b[K In lambda function:\n",
            "\u001b[01m\u001b[Kgolois.cpp:32:31:\u001b[m\u001b[K \u001b[01;35m\u001b[Kwarning: \u001b[m\u001b[KISO C++ forbids converting a string constant to ‘\u001b[01m\u001b[Kchar*\u001b[m\u001b[K’ [\u001b[01;35m\u001b[K-Wwrite-strings\u001b[m\u001b[K]\n",
            "    loadGamesData (\"games.data\"\u001b[01;35m\u001b[K)\u001b[m\u001b[K;\n",
            "                               \u001b[01;35m\u001b[K^\u001b[m\u001b[K\n",
            "\u001b[01m\u001b[Kgolois.cpp:40:101:\u001b[m\u001b[K \u001b[01;35m\u001b[Kwarning: \u001b[m\u001b[Kformat ‘\u001b[01m\u001b[K%d\u001b[m\u001b[K’ expects argument of type ‘\u001b[01m\u001b[Kint\u001b[m\u001b[K’, but argument 3 has type ‘\u001b[01m\u001b[Kpybind11::ssize_t {aka long int}\u001b[m\u001b[K’ [\u001b[01;35m\u001b[K-Wformat=\u001b[m\u001b[K]\n",
            "  fprintf (stderr, \"r.shape = (%d, %d, %d, %d)\\n\", \u001b[32m\u001b[Kr.shape (0)\u001b[m\u001b[K, r.shape (1), r.shape (2), r.shape (3)\u001b[01;35m\u001b[K)\u001b[m\u001b[K;\n",
            "                                                   \u001b[32m\u001b[K~~~~~~~~~~~\u001b[m\u001b[K                                       \u001b[01;35m\u001b[K^\u001b[m\u001b[K\n",
            "\u001b[01m\u001b[Kgolois.cpp:40:101:\u001b[m\u001b[K \u001b[01;35m\u001b[Kwarning: \u001b[m\u001b[Kformat ‘\u001b[01m\u001b[K%d\u001b[m\u001b[K’ expects argument of type ‘\u001b[01m\u001b[Kint\u001b[m\u001b[K’, but argument 4 has type ‘\u001b[01m\u001b[Kpybind11::ssize_t {aka long int}\u001b[m\u001b[K’ [\u001b[01;35m\u001b[K-Wformat=\u001b[m\u001b[K]\n",
            "\u001b[01m\u001b[Kgolois.cpp:40:101:\u001b[m\u001b[K \u001b[01;35m\u001b[Kwarning: \u001b[m\u001b[Kformat ‘\u001b[01m\u001b[K%d\u001b[m\u001b[K’ expects argument of type ‘\u001b[01m\u001b[Kint\u001b[m\u001b[K’, but argument 5 has type ‘\u001b[01m\u001b[Kpybind11::ssize_t {aka long int}\u001b[m\u001b[K’ [\u001b[01;35m\u001b[K-Wformat=\u001b[m\u001b[K]\n",
            "\u001b[01m\u001b[Kgolois.cpp:40:101:\u001b[m\u001b[K \u001b[01;35m\u001b[Kwarning: \u001b[m\u001b[Kformat ‘\u001b[01m\u001b[K%d\u001b[m\u001b[K’ expects argument of type ‘\u001b[01m\u001b[Kint\u001b[m\u001b[K’, but argument 6 has type ‘\u001b[01m\u001b[Kpybind11::ssize_t {aka long int}\u001b[m\u001b[K’ [\u001b[01;35m\u001b[K-Wformat=\u001b[m\u001b[K]\n",
            "In file included from \u001b[01m\u001b[Kgolois.cpp:18:0\u001b[m\u001b[K:\n",
            "\u001b[01m\u001b[KGame.h:\u001b[m\u001b[K In function ‘\u001b[01m\u001b[Kvoid loadGamesData(char*)\u001b[m\u001b[K’:\n",
            "\u001b[01m\u001b[KGame.h:121:12:\u001b[m\u001b[K \u001b[01;35m\u001b[Kwarning: \u001b[m\u001b[Kignoring return value of ‘\u001b[01m\u001b[Kint fscanf(FILE*, const char*, ...)\u001b[m\u001b[K’, declared with attribute warn_unused_result [\u001b[01;35m\u001b[K-Wunused-result\u001b[m\u001b[K]\n",
            "     \u001b[01;35m\u001b[Kfscanf (fp, \"%d\", &nbGames)\u001b[m\u001b[K;\n",
            "     \u001b[01;35m\u001b[K~~~~~~~^~~~~~~~~~~~~~~~~~~~\u001b[m\u001b[K\n",
            "\u001b[01m\u001b[KGame.h:123:14:\u001b[m\u001b[K \u001b[01;35m\u001b[Kwarning: \u001b[m\u001b[Kignoring return value of ‘\u001b[01m\u001b[Kint fscanf(FILE*, const char*, ...)\u001b[m\u001b[K’, declared with attribute warn_unused_result [\u001b[01;35m\u001b[K-Wunused-result\u001b[m\u001b[K]\n",
            "       \u001b[01;35m\u001b[Kfscanf (fp, \"%s \", s)\u001b[m\u001b[K;\n",
            "       \u001b[01;35m\u001b[K~~~~~~~^~~~~~~~~~~~~~\u001b[m\u001b[K\n",
            "\u001b[01m\u001b[KGame.h:125:14:\u001b[m\u001b[K \u001b[01;35m\u001b[Kwarning: \u001b[m\u001b[Kignoring return value of ‘\u001b[01m\u001b[Kint fscanf(FILE*, const char*, ...)\u001b[m\u001b[K’, declared with attribute warn_unused_result [\u001b[01;35m\u001b[K-Wunused-result\u001b[m\u001b[K]\n",
            "       \u001b[01;35m\u001b[Kfscanf (fp, \"%d\", &nbMovesSGFGame [g])\u001b[m\u001b[K;\n",
            "       \u001b[01;35m\u001b[K~~~~~~~^~~~~~~~~~~~~~~~~~~~~~~~~~~~~~~\u001b[m\u001b[K\n",
            "\u001b[01m\u001b[KGame.h:128:9:\u001b[m\u001b[K \u001b[01;35m\u001b[Kwarning: \u001b[m\u001b[Kignoring return value of ‘\u001b[01m\u001b[Kint fscanf(FILE*, const char*, ...)\u001b[m\u001b[K’, declared with attribute warn_unused_result [\u001b[01;35m\u001b[K-Wunused-result\u001b[m\u001b[K]\n",
            "  \u001b[01;35m\u001b[Kfscanf (fp, \"%d %d\", &proGame [g] [i].inter, &proGame [g] [i].color)\u001b[m\u001b[K;\n",
            "  \u001b[01;35m\u001b[K~~~~~~~^~~~~~~~~~~~~~~~~~~~~~~~~~~~~~~~~~~~~~~~~~~~~~~~~~~~~~~~~~~~~\u001b[m\u001b[K\n",
            "\u001b[01m\u001b[KGame.h:\u001b[m\u001b[K In function ‘\u001b[01m\u001b[Kvoid loadGamesDataVal(char*)\u001b[m\u001b[K’:\n",
            "\u001b[01m\u001b[KGame.h:178:12:\u001b[m\u001b[K \u001b[01;35m\u001b[Kwarning: \u001b[m\u001b[Kignoring return value of ‘\u001b[01m\u001b[Kint fscanf(FILE*, const char*, ...)\u001b[m\u001b[K’, declared with attribute warn_unused_result [\u001b[01;35m\u001b[K-Wunused-result\u001b[m\u001b[K]\n",
            "     \u001b[01;35m\u001b[Kfscanf (fp, \"%d\", &nbGames)\u001b[m\u001b[K;\n",
            "     \u001b[01;35m\u001b[K~~~~~~~^~~~~~~~~~~~~~~~~~~~\u001b[m\u001b[K\n",
            "\u001b[01m\u001b[KGame.h:180:14:\u001b[m\u001b[K \u001b[01;35m\u001b[Kwarning: \u001b[m\u001b[Kignoring return value of ‘\u001b[01m\u001b[Kint fscanf(FILE*, const char*, ...)\u001b[m\u001b[K’, declared with attribute warn_unused_result [\u001b[01;35m\u001b[K-Wunused-result\u001b[m\u001b[K]\n",
            "       \u001b[01;35m\u001b[Kfscanf (fp, \"%s \", s)\u001b[m\u001b[K;\n",
            "       \u001b[01;35m\u001b[K~~~~~~~^~~~~~~~~~~~~~\u001b[m\u001b[K\n",
            "\u001b[01m\u001b[KGame.h:182:14:\u001b[m\u001b[K \u001b[01;35m\u001b[Kwarning: \u001b[m\u001b[Kignoring return value of ‘\u001b[01m\u001b[Kint fscanf(FILE*, const char*, ...)\u001b[m\u001b[K’, declared with attribute warn_unused_result [\u001b[01;35m\u001b[K-Wunused-result\u001b[m\u001b[K]\n",
            "       \u001b[01;35m\u001b[Kfscanf (fp, \"%d\", &nbMovesSGFGame [g])\u001b[m\u001b[K;\n",
            "       \u001b[01;35m\u001b[K~~~~~~~^~~~~~~~~~~~~~~~~~~~~~~~~~~~~~~\u001b[m\u001b[K\n",
            "\u001b[01m\u001b[KGame.h:185:9:\u001b[m\u001b[K \u001b[01;35m\u001b[Kwarning: \u001b[m\u001b[Kignoring return value of ‘\u001b[01m\u001b[Kint fscanf(FILE*, const char*, ...)\u001b[m\u001b[K’, declared with attribute warn_unused_result [\u001b[01;35m\u001b[K-Wunused-result\u001b[m\u001b[K]\n",
            "  \u001b[01;35m\u001b[Kfscanf (fp, \"%d %f %d \", &proGame [g] [i].inter, &proGame [g] [i].val, &proGame [g] [i].color)\u001b[m\u001b[K;\n",
            "  \u001b[01;35m\u001b[K~~~~~~~^~~~~~~~~~~~~~~~~~~~~~~~~~~~~~~~~~~~~~~~~~~~~~~~~~~~~~~~~~~~~~~~~~~~~~~~~~~~~~~~~~~~~~~\u001b[m\u001b[K\n"
          ],
          "name": "stdout"
        }
      ]
    },
    {
      "cell_type": "code",
      "metadata": {
        "id": "2l-iYsNQe1qh",
        "colab_type": "code",
        "colab": {
          "base_uri": "https://localhost:8080/",
          "height": 61
        },
        "outputId": "fbec9224-a078-4fea-de68-fa410fc39a3f"
      },
      "source": [
        "from tensorflow.keras.preprocessing.image import img_to_array\n",
        "from tensorflow.keras.models import load_model\n",
        "import tensorflow as tf\n",
        "import tensorflow.keras as keras\n",
        "import numpy as np\n",
        "from tensorflow.keras import layers \n",
        "import pybind11\n",
        "import golois\n",
        "\n",
        "planes = 8\n",
        "moves = 361\n",
        "dynamicBatch = True"
      ],
      "execution_count": 6,
      "outputs": [
        {
          "output_type": "display_data",
          "data": {
            "text/html": [
              "<p style=\"color: red;\">\n",
              "The default version of TensorFlow in Colab will soon switch to TensorFlow 2.x.<br>\n",
              "We recommend you <a href=\"https://www.tensorflow.org/guide/migrate\" target=\"_blank\">upgrade</a> now \n",
              "or ensure your notebook will continue to use TensorFlow 1.x via the <code>%tensorflow_version 1.x</code> magic:\n",
              "<a href=\"https://colab.research.google.com/notebooks/tensorflow_version.ipynb\" target=\"_blank\">more info</a>.</p>\n"
            ],
            "text/plain": [
              "<IPython.core.display.HTML object>"
            ]
          },
          "metadata": {
            "tags": []
          }
        }
      ]
    },
    {
      "cell_type": "markdown",
      "metadata": {
        "id": "7_kke9veZQx_",
        "colab_type": "text"
      },
      "source": [
        "Test des réseaux precedents dans le rapport, le code ne contient que le réseau final, pour plus de lisibilité tout les tests sur les réseaux ont étés fait dans un autre notebook \n"
      ]
    },
    {
      "cell_type": "markdown",
      "metadata": {
        "id": "XC1GwGMuZQvf",
        "colab_type": "text"
      },
      "source": [
        ""
      ]
    },
    {
      "cell_type": "code",
      "metadata": {
        "id": "Fq8DKKp_mBXk",
        "colab_type": "code",
        "colab": {}
      },
      "source": [
        "# RESEAU FINAL \n",
        "\n",
        "input = keras.Input(shape=(19, 19, planes), name='board')\n",
        "x = layers.Conv2D(37, 3, activation='relu', padding='same')(input)\n",
        "y=x\n",
        "x = layers.Conv2D(32, 5, activation='relu', padding='same')(x)\n",
        "y = layers.Conv2D(32, 1, activation='relu', padding='same')(y)\n",
        "x = layers.add([x,y])\n",
        "y=x\n",
        "x = layers.Conv2D(66, 5, activation='relu', padding='same')(x)\n",
        "y = layers.Conv2D(66, 1, activation='relu', padding='same')(y)\n",
        "x = layers.add([x,y])\n",
        "y=x\n",
        "x = layers.Conv2D(66, 5, activation='relu', padding='same')(x)\n",
        "y = layers.Conv2D(66, 1, activation='relu', padding='same')(y)\n",
        "x = layers.add([x,y])\n",
        "\n",
        "x = layers.Conv2D(64, 5, activation='relu', padding='same')(x)\n",
        "y = layers.Conv2D(64, 1, activation='relu', padding='same')(y)\n",
        "x = layers.add([x,y])\n",
        "y=x\n",
        "x = layers.Conv2D(64, 5, activation='relu', padding='same')(x)\n",
        "y = layers.Conv2D(64, 1, activation='relu', padding='same')(y)\n",
        "x = layers.add([x,y])\n",
        "y=x\n",
        "x = layers.Conv2D(64, 5, activation='relu', padding='same')(x)\n",
        "y = layers.Conv2D(64, 1, activation='relu', padding='same')(y)\n",
        "x = layers.add([x,y])\n",
        "y=x\n",
        "x = layers.Conv2D(64, 5, activation='relu', padding='same')(x)\n",
        "y = layers.Conv2D(64, 1, activation='relu', padding='same')(y)\n",
        "x = layers.add([x,y])\n",
        "y=x\n",
        "x = layers.Conv2D(64, 5, activation='relu', padding='same')(x)\n",
        "y = layers.Conv2D(64, 1, activation='relu', padding='same')(y)\n",
        "x = layers.add([x,y])\n",
        "y=x\n",
        "x = layers.Conv2D(64, 5, activation='relu', padding='same')(x)\n",
        "y = layers.Conv2D(64, 1, activation='relu', padding='same')(y)\n",
        "x = layers.add([x,y])\n",
        "y=x\n",
        "\n",
        "policy_head = layers.Conv2D(1, 3, activation='relu', padding='same')(x)\n",
        "policy_head = layers.Flatten()(policy_head)\n",
        "policy_head = layers.Dense(moves, activation='softmax', name='policy')(policy_head)\n",
        "value_head = layers.Flatten()(x)\n",
        "value_head = layers.Dense(1, activation='sigmoid', name='value')(value_head)\n",
        "\n",
        "modfinal = keras.Model(inputs=input, outputs=[policy_head, value_head])\n",
        "\n",
        "modfinal.summary ()\n",
        "\n",
        "modfinal.compile(optimizer=keras.optimizers.SGD(lr=0.1),\n",
        "              loss={'value': 'mse', 'policy': 'categorical_crossentropy'})\n"
      ],
      "execution_count": 0,
      "outputs": []
    },
    {
      "cell_type": "code",
      "metadata": {
        "id": "XTLxCwx3GKjQ",
        "colab_type": "code",
        "colab": {
          "base_uri": "https://localhost:8080/",
          "height": 1000
        },
        "outputId": "25b26571-16e8-427d-8d23-4bd4bd172015"
      },
      "source": [
        "modelfinalgo = tf.keras.models.load_model(\n",
        "    'GouteuxFinal6.h5',\n",
        "    custom_objects=None,\n",
        "    compile=True)\n",
        "modelfinalgo.summary()"
      ],
      "execution_count": 7,
      "outputs": [
        {
          "output_type": "stream",
          "text": [
            "WARNING:tensorflow:From /usr/local/lib/python3.6/dist-packages/tensorflow_core/python/ops/init_ops.py:97: calling GlorotUniform.__init__ (from tensorflow.python.ops.init_ops) with dtype is deprecated and will be removed in a future version.\n",
            "Instructions for updating:\n",
            "Call initializer instance with the dtype argument instead of passing it to the constructor\n",
            "WARNING:tensorflow:From /usr/local/lib/python3.6/dist-packages/tensorflow_core/python/ops/init_ops.py:97: calling Zeros.__init__ (from tensorflow.python.ops.init_ops) with dtype is deprecated and will be removed in a future version.\n",
            "Instructions for updating:\n",
            "Call initializer instance with the dtype argument instead of passing it to the constructor\n",
            "WARNING:tensorflow:From /usr/local/lib/python3.6/dist-packages/tensorflow_core/python/ops/resource_variable_ops.py:1630: calling BaseResourceVariable.__init__ (from tensorflow.python.ops.resource_variable_ops) with constraint is deprecated and will be removed in a future version.\n",
            "Instructions for updating:\n",
            "If using Keras pass *_constraint arguments to layers.\n",
            "Model: \"model\"\n",
            "__________________________________________________________________________________________________\n",
            "Layer (type)                    Output Shape         Param #     Connected to                     \n",
            "==================================================================================================\n",
            "board (InputLayer)              [(None, 19, 19, 8)]  0                                            \n",
            "__________________________________________________________________________________________________\n",
            "conv2d (Conv2D)                 (None, 19, 19, 32)   2336        board[0][0]                      \n",
            "__________________________________________________________________________________________________\n",
            "conv2d_1 (Conv2D)               (None, 19, 19, 32)   25632       conv2d[0][0]                     \n",
            "__________________________________________________________________________________________________\n",
            "conv2d_2 (Conv2D)               (None, 19, 19, 32)   1056        conv2d[0][0]                     \n",
            "__________________________________________________________________________________________________\n",
            "add (Add)                       (None, 19, 19, 32)   0           conv2d_1[0][0]                   \n",
            "                                                                 conv2d_2[0][0]                   \n",
            "__________________________________________________________________________________________________\n",
            "conv2d_3 (Conv2D)               (None, 19, 19, 64)   51264       add[0][0]                        \n",
            "__________________________________________________________________________________________________\n",
            "conv2d_4 (Conv2D)               (None, 19, 19, 64)   2112        add[0][0]                        \n",
            "__________________________________________________________________________________________________\n",
            "add_1 (Add)                     (None, 19, 19, 64)   0           conv2d_3[0][0]                   \n",
            "                                                                 conv2d_4[0][0]                   \n",
            "__________________________________________________________________________________________________\n",
            "conv2d_5 (Conv2D)               (None, 19, 19, 64)   102464      add_1[0][0]                      \n",
            "__________________________________________________________________________________________________\n",
            "conv2d_6 (Conv2D)               (None, 19, 19, 64)   4160        add_1[0][0]                      \n",
            "__________________________________________________________________________________________________\n",
            "add_2 (Add)                     (None, 19, 19, 64)   0           conv2d_5[0][0]                   \n",
            "                                                                 conv2d_6[0][0]                   \n",
            "__________________________________________________________________________________________________\n",
            "conv2d_7 (Conv2D)               (None, 19, 19, 64)   102464      add_2[0][0]                      \n",
            "__________________________________________________________________________________________________\n",
            "conv2d_8 (Conv2D)               (None, 19, 19, 64)   4160        conv2d_6[0][0]                   \n",
            "__________________________________________________________________________________________________\n",
            "add_3 (Add)                     (None, 19, 19, 64)   0           conv2d_7[0][0]                   \n",
            "                                                                 conv2d_8[0][0]                   \n",
            "__________________________________________________________________________________________________\n",
            "conv2d_9 (Conv2D)               (None, 19, 19, 64)   102464      add_3[0][0]                      \n",
            "__________________________________________________________________________________________________\n",
            "conv2d_10 (Conv2D)              (None, 19, 19, 64)   4160        add_3[0][0]                      \n",
            "__________________________________________________________________________________________________\n",
            "add_4 (Add)                     (None, 19, 19, 64)   0           conv2d_9[0][0]                   \n",
            "                                                                 conv2d_10[0][0]                  \n",
            "__________________________________________________________________________________________________\n",
            "conv2d_11 (Conv2D)              (None, 19, 19, 64)   102464      add_4[0][0]                      \n",
            "__________________________________________________________________________________________________\n",
            "conv2d_12 (Conv2D)              (None, 19, 19, 64)   4160        add_4[0][0]                      \n",
            "__________________________________________________________________________________________________\n",
            "add_5 (Add)                     (None, 19, 19, 64)   0           conv2d_11[0][0]                  \n",
            "                                                                 conv2d_12[0][0]                  \n",
            "__________________________________________________________________________________________________\n",
            "conv2d_13 (Conv2D)              (None, 19, 19, 64)   102464      add_5[0][0]                      \n",
            "__________________________________________________________________________________________________\n",
            "conv2d_14 (Conv2D)              (None, 19, 19, 64)   4160        add_5[0][0]                      \n",
            "__________________________________________________________________________________________________\n",
            "add_6 (Add)                     (None, 19, 19, 64)   0           conv2d_13[0][0]                  \n",
            "                                                                 conv2d_14[0][0]                  \n",
            "__________________________________________________________________________________________________\n",
            "conv2d_15 (Conv2D)              (None, 19, 19, 64)   102464      add_6[0][0]                      \n",
            "__________________________________________________________________________________________________\n",
            "conv2d_16 (Conv2D)              (None, 19, 19, 64)   4160        add_6[0][0]                      \n",
            "__________________________________________________________________________________________________\n",
            "add_7 (Add)                     (None, 19, 19, 64)   0           conv2d_15[0][0]                  \n",
            "                                                                 conv2d_16[0][0]                  \n",
            "__________________________________________________________________________________________________\n",
            "conv2d_17 (Conv2D)              (None, 19, 19, 64)   102464      add_7[0][0]                      \n",
            "__________________________________________________________________________________________________\n",
            "conv2d_18 (Conv2D)              (None, 19, 19, 64)   4160        add_7[0][0]                      \n",
            "__________________________________________________________________________________________________\n",
            "add_8 (Add)                     (None, 19, 19, 64)   0           conv2d_17[0][0]                  \n",
            "                                                                 conv2d_18[0][0]                  \n",
            "__________________________________________________________________________________________________\n",
            "conv2d_19 (Conv2D)              (None, 19, 19, 1)    577         add_8[0][0]                      \n",
            "__________________________________________________________________________________________________\n",
            "flatten (Flatten)               (None, 361)          0           conv2d_19[0][0]                  \n",
            "__________________________________________________________________________________________________\n",
            "flatten_1 (Flatten)             (None, 23104)        0           add_8[0][0]                      \n",
            "__________________________________________________________________________________________________\n",
            "policy (Dense)                  (None, 361)          130682      flatten[0][0]                    \n",
            "__________________________________________________________________________________________________\n",
            "value (Dense)                   (None, 1)            23105       flatten_1[0][0]                  \n",
            "==================================================================================================\n",
            "Total params: 983,132\n",
            "Trainable params: 983,132\n",
            "Non-trainable params: 0\n",
            "__________________________________________________________________________________________________\n"
          ],
          "name": "stdout"
        }
      ]
    },
    {
      "cell_type": "code",
      "metadata": {
        "id": "IqE4QjoX9z2R",
        "colab_type": "code",
        "colab": {}
      },
      "source": [
        "\n",
        "input = keras.Input(shape=(19, 19, planes), name='board')\n",
        "x = layers.Conv2D(37, 3, activation='relu', padding='same')(input)\n",
        "y=x\n",
        "x = layers.Conv2D(32, 5, activation='relu', padding='same')(x)\n",
        "y = layers.Conv2D(32, 1, activation='relu', padding='same')(y)\n",
        "x = layers.add([x,y])\n",
        "y=x\n",
        "x = layers.Conv2D(66, 5, activation='relu', padding='same')(x)\n",
        "y = layers.Conv2D(66, 1, activation='relu', padding='same')(y)\n",
        "x = layers.add([x,y])\n",
        "y=x\n",
        "x = layers.Conv2D(66, 5, activation='relu', padding='same')(x)\n",
        "y = layers.Conv2D(66, 1, activation='relu', padding='same')(y)\n",
        "x = layers.add([x,y])\n",
        "\n",
        "x = layers.Conv2D(64, 5, activation='relu', padding='same')(x)\n",
        "y = layers.Conv2D(64, 1, activation='relu', padding='same')(y)\n",
        "x = layers.add([x,y])\n",
        "y=x\n",
        "x = layers.Conv2D(64, 5, activation='relu', padding='same')(x)\n",
        "y = layers.Conv2D(64, 1, activation='relu', padding='same')(y)\n",
        "x = layers.add([x,y])\n",
        "y=x\n",
        "x = layers.Conv2D(64, 5, activation='relu', padding='same')(x)\n",
        "y = layers.Conv2D(64, 1, activation='relu', padding='same')(y)\n",
        "x = layers.add([x,y])\n",
        "y=x\n",
        "x = layers.Conv2D(64, 5, activation='relu', padding='same')(x)\n",
        "y = layers.Conv2D(64, 1, activation='relu', padding='same')(y)\n",
        "x = layers.add([x,y])\n",
        "y=x\n",
        "x = layers.Conv2D(64, 5, activation='relu', padding='same')(x)\n",
        "y = layers.Conv2D(64, 1, activation='relu', padding='same')(y)\n",
        "x = layers.add([x,y])\n",
        "y=x\n",
        "x = layers.Conv2D(64, 5, activation='relu', padding='same')(x)\n",
        "y = layers.Conv2D(64, 1, activation='relu', padding='same')(y)\n",
        "x = layers.add([x,y])\n",
        "y=x\n",
        "\n",
        "\n",
        "policy_head = layers.Conv2D(1, 3, activation='relu', padding='same')(x)\n",
        "policy_head = layers.Flatten()(policy_head)\n",
        "policy_head = layers.Dense(moves, activation='softmax', name='policy')(policy_head)\n",
        "value_head = layers.Flatten()(x)\n",
        "value_head = layers.Dense(1, activation='sigmoid', name='value')(value_head)\n",
        "\n",
        "modelplot = keras.Model(inputs=input, outputs=[policy_head, value_head])\n",
        "\n",
        "modelplot.compile(optimizer=keras.optimizers.SGD(lr=0.1),\n",
        "              loss={'value': 'mse', 'policy': 'categorical_crossentropy'})"
      ],
      "execution_count": 0,
      "outputs": []
    },
    {
      "cell_type": "markdown",
      "metadata": {
        "id": "wElgWhejaDyh",
        "colab_type": "text"
      },
      "source": [
        "#Test de l'optimizer : \n"
      ]
    },
    {
      "cell_type": "code",
      "metadata": {
        "id": "R9hm3EfcaHAC",
        "colab_type": "code",
        "colab": {}
      },
      "source": [
        "modelSGD = tf.keras.models.load_model(\n",
        "      'GouteuxFinal.h5',\n",
        "    custom_objects=None,\n",
        "    compile=True)\n",
        "\n",
        "modelAdam = tf.keras.models.load_model(\n",
        "      'GouteuxFinal.h5',\n",
        "    custom_objects=None,\n",
        "    compile=True)\n",
        "\n",
        "modelRms =  tf.keras.models.load_model(\n",
        "      'GouteuxFinal.h5',\n",
        "    custom_objects=None,\n",
        "    compile=True)"
      ],
      "execution_count": 0,
      "outputs": []
    },
    {
      "cell_type": "code",
      "metadata": {
        "id": "3rekGHtyaapz",
        "colab_type": "code",
        "colab": {}
      },
      "source": [
        "\n",
        "modelSGD.compile(optimizer=keras.optimizers.SGD(),\n",
        "              loss={'value': 'mse', 'policy': 'categorical_crossentropy'})\n",
        "\n",
        "modelAdam.compile(optimizer=keras.optimizers.Adam(),\n",
        "              loss={'value': 'mse', 'policy': 'categorical_crossentropy'})\n",
        "\n",
        "modelRms.compile(optimizer=keras.optimizers.RMSprop(),\n",
        "              loss={'value': 'mse', 'policy': 'categorical_crossentropy'})"
      ],
      "execution_count": 0,
      "outputs": []
    },
    {
      "cell_type": "markdown",
      "metadata": {
        "id": "8S3nt81wa6bC",
        "colab_type": "text"
      },
      "source": [
        "## Entrainement Rapide"
      ]
    },
    {
      "cell_type": "code",
      "metadata": {
        "id": "twVS5mTua9C0",
        "colab_type": "code",
        "colab": {}
      },
      "source": [
        "dynamicBatch = True\n",
        "\n",
        "for i in range(10):\n",
        "    print(\"BOUCLE : \",i)\n",
        "    if dynamicBatch:\n",
        "      N = 100000\n",
        "      input_data = np.random.randint(2, size=(N, 19, 19, planes))\n",
        "      input_data = input_data.astype ('float32')\n",
        "      \n",
        "      policy = np.random.randint(moves, size=(N,))\n",
        "      policy = keras.utils.to_categorical (policy)\n",
        "      \n",
        "      value = np.random.randint(2, size=(N,))\n",
        "      value = value.astype ('float32')\n",
        "      \n",
        "      end = np.random.randint(2, size=(N, 19, 19, 2))\n",
        "      end = end.astype ('float32')\n",
        "\n",
        "      golois.getBatch (input_data, policy, value, end)\n",
        "    else:\n",
        "      input_data = np.load ('input_data.npy')\n",
        "      policy = np.load ('policy.npy')\n",
        "      value = np.load ('value.npy')\n",
        "      end = np.load ('end.npy')\n",
        "\n",
        "    modelSGD.fit(input_data, {'policy': policy, 'value': value},\n",
        "            epochs=8, batch_size=128, validation_split=0.1)\n",
        "    modelAdam.fit(input_data, {'policy': policy, 'value': value},\n",
        "            epochs=8, batch_size=128, validation_split=0.1)\n",
        "    ModelRms.fit(input_data, {'policy': policy, 'value': value},\n",
        "            epochs=8, batch_size=128, validation_split=0.1)\n"
      ],
      "execution_count": 0,
      "outputs": []
    },
    {
      "cell_type": "markdown",
      "metadata": {
        "id": "kdB5eQCobMN2",
        "colab_type": "text"
      },
      "source": [
        "# Test de l'optimizer"
      ]
    },
    {
      "cell_type": "code",
      "metadata": {
        "id": "cZ_cxTBIbO1v",
        "colab_type": "code",
        "colab": {}
      },
      "source": [
        "# NOUVEAU BATCH \n",
        "\n",
        "N = 100000\n",
        "input_data = np.random.randint(2, size=(N, 19, 19, planes))\n",
        "input_data = input_data.astype ('float32')\n",
        "\n",
        "policy = np.random.randint(moves, size=(N,))\n",
        "policy = keras.utils.to_categorical (policy)\n",
        "\n",
        "value = np.random.randint(2, size=(N,))\n",
        "value = value.astype ('float32')\n",
        "\n",
        "end = np.random.randint(2, size=(N, 19, 19, 2))\n",
        "end = end.astype ('float32')\n",
        "\n",
        "golois.getBatch (input_data, policy, value, end)\n",
        "else:\n",
        "input_data = np.load ('input_data.npy')\n",
        "policy = np.load ('policy.npy')\n",
        "value = np.load ('value.npy')\n",
        "end = np.load ('end.npy')\n",
        "\n",
        "modelSGD.evaluate(input_data_test, {'policy': policy_test, 'value': value_test})\n",
        "modelAdam.evaluate(input_data_test, {'policy': policy_test, 'value': value_test})\n",
        "modelRms.evaluate(input_data_test, {'policy': policy_test, 'value': value_test})"
      ],
      "execution_count": 0,
      "outputs": []
    },
    {
      "cell_type": "markdown",
      "metadata": {
        "id": "8BMZkcbbbcKb",
        "colab_type": "text"
      },
      "source": [
        "# Graphiques des differents entrainements"
      ]
    },
    {
      "cell_type": "code",
      "metadata": {
        "id": "THRiO02FNeFa",
        "colab_type": "code",
        "outputId": "16d78cb1-2a84-4203-aafb-308032bfde3b",
        "colab": {
          "base_uri": "https://localhost:8080/",
          "height": 1000
        }
      },
      "source": [
        "dynamicBatch = True\n",
        "\n",
        "historyloss = []  \n",
        "histoyvalloss = []\n",
        "for i in range(10):\n",
        "    print(\"BOUCLE : \",i)\n",
        "    if dynamicBatch:\n",
        "      N = 100000\n",
        "      input_data = np.random.randint(2, size=(N, 19, 19, planes))\n",
        "      input_data = input_data.astype ('float32')\n",
        "      \n",
        "      policy = np.random.randint(moves, size=(N,))\n",
        "      policy = keras.utils.to_categorical (policy)\n",
        "      \n",
        "      value = np.random.randint(2, size=(N,))\n",
        "      value = value.astype ('float32')\n",
        "      \n",
        "      end = np.random.randint(2, size=(N, 19, 19, 2))\n",
        "      end = end.astype ('float32')\n",
        "\n",
        "      golois.getBatch (input_data, policy, value, end)\n",
        "    else:\n",
        "      input_data = np.load ('input_data.npy')\n",
        "      policy = np.load ('policy.npy')\n",
        "      value = np.load ('value.npy')\n",
        "      end = np.load ('end.npy')\n",
        "\n",
        "    history = modelplot.fit(input_data, {'policy': policy, 'value': value},\n",
        "            epochs=8, batch_size=128, validation_split=0.1)\n",
        "    historyloss.append(history.history['loss']) \n",
        "    histoyvalloss.append(history.history['val_loss'])\n",
        "\n",
        "\n",
        "\n",
        "\n"
      ],
      "execution_count": 0,
      "outputs": [
        {
          "output_type": "stream",
          "text": [
            "BOUCLE :  0\n",
            "Train on 90000 samples, validate on 10000 samples\n",
            "Epoch 1/8\n",
            "90000/90000 [==============================] - 26s 286us/sample - loss: 6.1167 - policy_loss: 5.8840 - value_loss: 0.2326 - val_loss: 6.1240 - val_policy_loss: 5.8790 - val_value_loss: 0.2448\n",
            "Epoch 2/8\n",
            "90000/90000 [==============================] - 25s 281us/sample - loss: 6.0972 - policy_loss: 5.8756 - value_loss: 0.2216 - val_loss: 6.0911 - val_policy_loss: 5.8727 - val_value_loss: 0.2184\n",
            "Epoch 3/8\n",
            "90000/90000 [==============================] - 25s 280us/sample - loss: 6.0899 - policy_loss: 5.8700 - value_loss: 0.2200 - val_loss: 6.1127 - val_policy_loss: 5.8679 - val_value_loss: 0.2437\n",
            "Epoch 4/8\n",
            "90000/90000 [==============================] - 25s 281us/sample - loss: 6.0839 - policy_loss: 5.8661 - value_loss: 0.2178 - val_loss: 6.0801 - val_policy_loss: 5.8651 - val_value_loss: 0.2159\n",
            "Epoch 5/8\n",
            "90000/90000 [==============================] - 25s 280us/sample - loss: 6.0803 - policy_loss: 5.8634 - value_loss: 0.2168 - val_loss: 6.0828 - val_policy_loss: 5.8629 - val_value_loss: 0.2203\n",
            "Epoch 6/8\n",
            "90000/90000 [==============================] - 25s 281us/sample - loss: 6.0780 - policy_loss: 5.8616 - value_loss: 0.2164 - val_loss: 6.0754 - val_policy_loss: 5.8616 - val_value_loss: 0.2144\n",
            "Epoch 7/8\n",
            "90000/90000 [==============================] - 25s 280us/sample - loss: 6.0759 - policy_loss: 5.8603 - value_loss: 0.2158 - val_loss: 6.0916 - val_policy_loss: 5.8599 - val_value_loss: 0.2313\n",
            "Epoch 8/8\n",
            "90000/90000 [==============================] - 25s 280us/sample - loss: 6.0745 - policy_loss: 5.8594 - value_loss: 0.2152 - val_loss: 6.0722 - val_policy_loss: 5.8594 - val_value_loss: 0.2124\n",
            "BOUCLE :  1\n",
            "Train on 90000 samples, validate on 10000 samples\n",
            "Epoch 1/8\n",
            "90000/90000 [==============================] - 25s 281us/sample - loss: 6.0762 - policy_loss: 5.8607 - value_loss: 0.2154 - val_loss: 6.0725 - val_policy_loss: 5.8583 - val_value_loss: 0.2137\n",
            "Epoch 2/8\n",
            "90000/90000 [==============================] - 25s 280us/sample - loss: 6.0742 - policy_loss: 5.8594 - value_loss: 0.2147 - val_loss: 6.0720 - val_policy_loss: 5.8586 - val_value_loss: 0.2137\n",
            "Epoch 3/8\n",
            "90000/90000 [==============================] - 25s 281us/sample - loss: 6.0728 - policy_loss: 5.8584 - value_loss: 0.2143 - val_loss: 6.0751 - val_policy_loss: 5.8570 - val_value_loss: 0.2179\n",
            "Epoch 4/8\n",
            "90000/90000 [==============================] - 25s 281us/sample - loss: 6.0717 - policy_loss: 5.8577 - value_loss: 0.2139 - val_loss: 6.0728 - val_policy_loss: 5.8570 - val_value_loss: 0.2162\n",
            "Epoch 5/8\n",
            "90000/90000 [==============================] - 25s 281us/sample - loss: 6.0707 - policy_loss: 5.8571 - value_loss: 0.2135 - val_loss: 6.0849 - val_policy_loss: 5.8568 - val_value_loss: 0.2282\n",
            "Epoch 6/8\n",
            "90000/90000 [==============================] - 25s 280us/sample - loss: 6.0702 - policy_loss: 5.8569 - value_loss: 0.2133 - val_loss: 6.0714 - val_policy_loss: 5.8557 - val_value_loss: 0.2149\n",
            "Epoch 7/8\n",
            "90000/90000 [==============================] - 25s 281us/sample - loss: 6.0741 - policy_loss: 5.8565 - value_loss: 0.2177 - val_loss: 6.0704 - val_policy_loss: 5.8575 - val_value_loss: 0.2140\n",
            "Epoch 8/8\n",
            "90000/90000 [==============================] - 25s 280us/sample - loss: 6.0694 - policy_loss: 5.8547 - value_loss: 0.2145 - val_loss: 6.0855 - val_policy_loss: 5.8499 - val_value_loss: 0.2364\n",
            "BOUCLE :  2\n",
            "Train on 90000 samples, validate on 10000 samples\n",
            "Epoch 1/8\n",
            "90000/90000 [==============================] - 25s 281us/sample - loss: 5.9696 - policy_loss: 5.7484 - value_loss: 0.2209 - val_loss: 5.9882 - val_policy_loss: 5.7508 - val_value_loss: 0.2336\n",
            "Epoch 2/8\n",
            "90000/90000 [==============================] - 25s 281us/sample - loss: 5.8631 - policy_loss: 5.6437 - value_loss: 0.2192 - val_loss: 5.9583 - val_policy_loss: 5.7197 - val_value_loss: 0.2397\n",
            "Epoch 3/8\n",
            "90000/90000 [==============================] - 25s 281us/sample - loss: 5.7846 - policy_loss: 5.5653 - value_loss: 0.2189 - val_loss: 5.9303 - val_policy_loss: 5.7065 - val_value_loss: 0.2226\n",
            "Epoch 4/8\n",
            "90000/90000 [==============================] - 25s 281us/sample - loss: 5.2848 - policy_loss: 5.0627 - value_loss: 0.2222 - val_loss: 5.6865 - val_policy_loss: 5.3856 - val_value_loss: 0.3020\n",
            "Epoch 5/8\n",
            "90000/90000 [==============================] - 25s 281us/sample - loss: 4.8925 - policy_loss: 4.6678 - value_loss: 0.2246 - val_loss: 5.2024 - val_policy_loss: 4.9439 - val_value_loss: 0.2470\n",
            "Epoch 6/8\n",
            "90000/90000 [==============================] - 25s 280us/sample - loss: 4.6852 - policy_loss: 4.4624 - value_loss: 0.2231 - val_loss: 5.2789 - val_policy_loss: 4.9928 - val_value_loss: 0.2795\n",
            "Epoch 7/8\n",
            "90000/90000 [==============================] - 25s 281us/sample - loss: 4.4762 - policy_loss: 4.2534 - value_loss: 0.2222 - val_loss: 4.9952 - val_policy_loss: 4.6939 - val_value_loss: 0.3052\n",
            "Epoch 8/8\n",
            "90000/90000 [==============================] - 25s 281us/sample - loss: 4.2204 - policy_loss: 3.9969 - value_loss: 0.2223 - val_loss: 4.4274 - val_policy_loss: 4.1872 - val_value_loss: 0.2354\n",
            "BOUCLE :  3\n",
            "Train on 90000 samples, validate on 10000 samples\n",
            "Epoch 1/8\n",
            "90000/90000 [==============================] - 25s 283us/sample - loss: 4.1380 - policy_loss: 3.9127 - value_loss: 0.2245 - val_loss: 4.8216 - val_policy_loss: 4.5821 - val_value_loss: 0.2324\n",
            "Epoch 2/8\n",
            "90000/90000 [==============================] - 25s 283us/sample - loss: 3.8137 - policy_loss: 3.5934 - value_loss: 0.2218 - val_loss: 4.3510 - val_policy_loss: 4.0878 - val_value_loss: 0.2643\n",
            "Epoch 3/8\n",
            "90000/90000 [==============================] - 25s 282us/sample - loss: 3.5619 - policy_loss: 3.3403 - value_loss: 0.2218 - val_loss: 3.9852 - val_policy_loss: 3.7138 - val_value_loss: 0.2795\n",
            "Epoch 4/8\n",
            "90000/90000 [==============================] - 25s 281us/sample - loss: 3.3535 - policy_loss: 3.1324 - value_loss: 0.2205 - val_loss: 4.1350 - val_policy_loss: 3.8837 - val_value_loss: 0.2555\n",
            "Epoch 5/8\n",
            "90000/90000 [==============================] - 25s 281us/sample - loss: 3.1733 - policy_loss: 2.9540 - value_loss: 0.2194 - val_loss: 3.9476 - val_policy_loss: 3.7201 - val_value_loss: 0.2322\n",
            "Epoch 6/8\n",
            "90000/90000 [==============================] - 25s 282us/sample - loss: 3.0260 - policy_loss: 2.8068 - value_loss: 0.2185 - val_loss: 3.8483 - val_policy_loss: 3.6266 - val_value_loss: 0.2253\n",
            "Epoch 7/8\n",
            "90000/90000 [==============================] - 26s 284us/sample - loss: 2.8930 - policy_loss: 2.6762 - value_loss: 0.2166 - val_loss: 4.9713 - val_policy_loss: 4.7376 - val_value_loss: 0.2398\n",
            "Epoch 8/8\n",
            "90000/90000 [==============================] - 25s 282us/sample - loss: 2.7849 - policy_loss: 2.5678 - value_loss: 0.2168 - val_loss: 4.2316 - val_policy_loss: 3.9831 - val_value_loss: 0.2629\n",
            "BOUCLE :  4\n",
            "Train on 90000 samples, validate on 10000 samples\n",
            "Epoch 1/8\n",
            "90000/90000 [==============================] - 25s 281us/sample - loss: 3.5646 - policy_loss: 3.3459 - value_loss: 0.2196 - val_loss: 3.8951 - val_policy_loss: 3.6520 - val_value_loss: 0.2378\n",
            "Epoch 2/8\n",
            "90000/90000 [==============================] - 25s 280us/sample - loss: 3.2958 - policy_loss: 3.0788 - value_loss: 0.2174 - val_loss: 3.6685 - val_policy_loss: 3.4290 - val_value_loss: 0.2295\n",
            "Epoch 3/8\n",
            "90000/90000 [==============================] - 25s 281us/sample - loss: 3.0959 - policy_loss: 2.8783 - value_loss: 0.2165 - val_loss: 4.1678 - val_policy_loss: 3.9151 - val_value_loss: 0.2422\n",
            "Epoch 4/8\n",
            "90000/90000 [==============================] - 25s 281us/sample - loss: 2.9307 - policy_loss: 2.7152 - value_loss: 0.2157 - val_loss: 3.7719 - val_policy_loss: 3.5528 - val_value_loss: 0.2198\n",
            "Epoch 5/8\n",
            "90000/90000 [==============================] - 25s 281us/sample - loss: 2.7809 - policy_loss: 2.5663 - value_loss: 0.2141 - val_loss: 3.6986 - val_policy_loss: 3.4545 - val_value_loss: 0.2465\n",
            "Epoch 6/8\n",
            "90000/90000 [==============================] - 25s 281us/sample - loss: 2.6541 - policy_loss: 2.4410 - value_loss: 0.2134 - val_loss: 3.7668 - val_policy_loss: 3.5415 - val_value_loss: 0.2301\n",
            "Epoch 7/8\n",
            "90000/90000 [==============================] - 25s 280us/sample - loss: 2.5332 - policy_loss: 2.3210 - value_loss: 0.2119 - val_loss: 3.8743 - val_policy_loss: 3.5980 - val_value_loss: 0.2748\n",
            "Epoch 8/8\n",
            "90000/90000 [==============================] - 25s 281us/sample - loss: 2.4253 - policy_loss: 2.2143 - value_loss: 0.2123 - val_loss: 4.2736 - val_policy_loss: 3.9913 - val_value_loss: 0.2675\n",
            "BOUCLE :  5\n",
            "Train on 90000 samples, validate on 10000 samples\n",
            "Epoch 1/8\n",
            "90000/90000 [==============================] - 25s 281us/sample - loss: 3.4660 - policy_loss: 3.2470 - value_loss: 0.2193 - val_loss: 3.4776 - val_policy_loss: 3.2331 - val_value_loss: 0.2379\n",
            "Epoch 2/8\n",
            "90000/90000 [==============================] - 25s 281us/sample - loss: 3.1974 - policy_loss: 2.9812 - value_loss: 0.2163 - val_loss: 3.4269 - val_policy_loss: 3.2116 - val_value_loss: 0.2215\n",
            "Epoch 3/8\n",
            "90000/90000 [==============================] - 25s 280us/sample - loss: 2.9986 - policy_loss: 2.7843 - value_loss: 0.2149 - val_loss: 3.5859 - val_policy_loss: 3.3439 - val_value_loss: 0.2348\n",
            "Epoch 4/8\n",
            "90000/90000 [==============================] - 25s 281us/sample - loss: 2.8315 - policy_loss: 2.6181 - value_loss: 0.2131 - val_loss: 3.6246 - val_policy_loss: 3.4029 - val_value_loss: 0.2278\n",
            "Epoch 5/8\n",
            "90000/90000 [==============================] - 25s 281us/sample - loss: 2.6802 - policy_loss: 2.4689 - value_loss: 0.2121 - val_loss: 3.6832 - val_policy_loss: 3.4370 - val_value_loss: 0.2453\n",
            "Epoch 6/8\n",
            "90000/90000 [==============================] - 25s 280us/sample - loss: 2.5462 - policy_loss: 2.3362 - value_loss: 0.2106 - val_loss: 3.7088 - val_policy_loss: 3.4900 - val_value_loss: 0.2223\n",
            "Epoch 7/8\n",
            "90000/90000 [==============================] - 25s 280us/sample - loss: 2.4268 - policy_loss: 2.2173 - value_loss: 0.2101 - val_loss: 3.8450 - val_policy_loss: 3.5739 - val_value_loss: 0.2772\n",
            "Epoch 8/8\n",
            "90000/90000 [==============================] - 25s 280us/sample - loss: 2.3187 - policy_loss: 2.1099 - value_loss: 0.2095 - val_loss: 3.8402 - val_policy_loss: 3.6066 - val_value_loss: 0.2326\n",
            "BOUCLE :  6\n",
            "Train on 90000 samples, validate on 10000 samples\n",
            "Epoch 1/8\n",
            "90000/90000 [==============================] - 25s 280us/sample - loss: 3.4165 - policy_loss: 3.1991 - value_loss: 0.2182 - val_loss: 3.5924 - val_policy_loss: 3.3185 - val_value_loss: 0.2688\n",
            "Epoch 2/8\n",
            "90000/90000 [==============================] - 25s 280us/sample - loss: 3.1513 - policy_loss: 2.9366 - value_loss: 0.2153 - val_loss: 3.5784 - val_policy_loss: 3.3517 - val_value_loss: 0.2303\n",
            "Epoch 3/8\n",
            "90000/90000 [==============================] - 25s 281us/sample - loss: 2.9570 - policy_loss: 2.7429 - value_loss: 0.2138 - val_loss: 3.7974 - val_policy_loss: 3.5308 - val_value_loss: 0.2691\n",
            "Epoch 4/8\n",
            "90000/90000 [==============================] - 25s 280us/sample - loss: 2.7820 - policy_loss: 2.5688 - value_loss: 0.2121 - val_loss: 4.1005 - val_policy_loss: 3.8433 - val_value_loss: 0.2507\n",
            "Epoch 5/8\n",
            "90000/90000 [==============================] - 25s 281us/sample - loss: 2.6299 - policy_loss: 2.4200 - value_loss: 0.2105 - val_loss: 3.6268 - val_policy_loss: 3.4087 - val_value_loss: 0.2221\n",
            "Epoch 6/8\n",
            "90000/90000 [==============================] - 25s 280us/sample - loss: 2.4951 - policy_loss: 2.2862 - value_loss: 0.2096 - val_loss: 4.0787 - val_policy_loss: 3.8523 - val_value_loss: 0.2315\n",
            "Epoch 7/8\n",
            "90000/90000 [==============================] - 25s 280us/sample - loss: 2.3752 - policy_loss: 2.1669 - value_loss: 0.2084 - val_loss: 4.1419 - val_policy_loss: 3.9037 - val_value_loss: 0.2427\n",
            "Epoch 8/8\n",
            "90000/90000 [==============================] - 25s 281us/sample - loss: 2.2702 - policy_loss: 2.0633 - value_loss: 0.2076 - val_loss: 4.7711 - val_policy_loss: 4.5159 - val_value_loss: 0.2477\n",
            "BOUCLE :  7\n",
            "Train on 90000 samples, validate on 10000 samples\n",
            "Epoch 1/8\n",
            "90000/90000 [==============================] - 25s 280us/sample - loss: 3.3652 - policy_loss: 3.1450 - value_loss: 0.2187 - val_loss: 3.4381 - val_policy_loss: 3.2155 - val_value_loss: 0.2310\n",
            "Epoch 2/8\n",
            "90000/90000 [==============================] - 25s 280us/sample - loss: 3.1028 - policy_loss: 2.8868 - value_loss: 0.2153 - val_loss: 3.5157 - val_policy_loss: 3.2378 - val_value_loss: 0.2675\n",
            "Epoch 3/8\n",
            "90000/90000 [==============================] - 25s 281us/sample - loss: 2.9137 - policy_loss: 2.7006 - value_loss: 0.2128 - val_loss: 3.6388 - val_policy_loss: 3.4029 - val_value_loss: 0.2336\n",
            "Epoch 4/8\n",
            "90000/90000 [==============================] - 25s 280us/sample - loss: 2.7507 - policy_loss: 2.5405 - value_loss: 0.2111 - val_loss: 3.5709 - val_policy_loss: 3.3222 - val_value_loss: 0.2414\n",
            "Epoch 5/8\n",
            "90000/90000 [==============================] - 25s 279us/sample - loss: 2.6008 - policy_loss: 2.3915 - value_loss: 0.2096 - val_loss: 3.4988 - val_policy_loss: 3.2861 - val_value_loss: 0.2230\n",
            "Epoch 6/8\n",
            "90000/90000 [==============================] - 25s 280us/sample - loss: 2.4680 - policy_loss: 2.2594 - value_loss: 0.2089 - val_loss: 3.7349 - val_policy_loss: 3.5123 - val_value_loss: 0.2268\n",
            "Epoch 7/8\n",
            "90000/90000 [==============================] - 25s 280us/sample - loss: 2.3536 - policy_loss: 2.1466 - value_loss: 0.2075 - val_loss: 3.8074 - val_policy_loss: 3.5750 - val_value_loss: 0.2402\n",
            "Epoch 8/8\n",
            "90000/90000 [==============================] - 25s 281us/sample - loss: 2.2497 - policy_loss: 2.0424 - value_loss: 0.2067 - val_loss: 3.9611 - val_policy_loss: 3.7223 - val_value_loss: 0.2317\n",
            "BOUCLE :  8\n",
            "Train on 90000 samples, validate on 10000 samples\n",
            "Epoch 1/8\n",
            "90000/90000 [==============================] - 25s 280us/sample - loss: 3.3470 - policy_loss: 3.1266 - value_loss: 0.2203 - val_loss: 3.4149 - val_policy_loss: 3.1826 - val_value_loss: 0.2346\n",
            "Epoch 2/8\n",
            "90000/90000 [==============================] - 25s 281us/sample - loss: 3.0909 - policy_loss: 2.8744 - value_loss: 0.2163 - val_loss: 3.3077 - val_policy_loss: 3.0783 - val_value_loss: 0.2271\n",
            "Epoch 3/8\n",
            "90000/90000 [==============================] - 25s 280us/sample - loss: 2.9024 - policy_loss: 2.6886 - value_loss: 0.2138 - val_loss: 3.3936 - val_policy_loss: 3.1241 - val_value_loss: 0.2703\n",
            "Epoch 4/8\n",
            "90000/90000 [==============================] - 25s 281us/sample - loss: 2.7369 - policy_loss: 2.5261 - value_loss: 0.2117 - val_loss: 3.4890 - val_policy_loss: 3.2578 - val_value_loss: 0.2298\n",
            "Epoch 5/8\n",
            "90000/90000 [==============================] - 25s 281us/sample - loss: 2.5927 - policy_loss: 2.3831 - value_loss: 0.2098 - val_loss: 3.5774 - val_policy_loss: 3.2946 - val_value_loss: 0.2737\n",
            "Epoch 6/8\n",
            "90000/90000 [==============================] - 25s 281us/sample - loss: 2.4596 - policy_loss: 2.2517 - value_loss: 0.2091 - val_loss: 3.8432 - val_policy_loss: 3.6245 - val_value_loss: 0.2309\n",
            "Epoch 7/8\n",
            "90000/90000 [==============================] - 25s 280us/sample - loss: 2.3433 - policy_loss: 2.1356 - value_loss: 0.2083 - val_loss: 3.7787 - val_policy_loss: 3.5303 - val_value_loss: 0.2473\n",
            "Epoch 8/8\n",
            "90000/90000 [==============================] - 25s 280us/sample - loss: 2.2423 - policy_loss: 2.0348 - value_loss: 0.2068 - val_loss: 3.9078 - val_policy_loss: 3.6494 - val_value_loss: 0.2510\n",
            "BOUCLE :  9\n",
            "Train on 90000 samples, validate on 10000 samples\n",
            "Epoch 1/8\n",
            "90000/90000 [==============================] - 25s 280us/sample - loss: 3.3277 - policy_loss: 3.1078 - value_loss: 0.2195 - val_loss: 3.3808 - val_policy_loss: 3.1506 - val_value_loss: 0.2334\n",
            "Epoch 2/8\n",
            "90000/90000 [==============================] - 25s 280us/sample - loss: 3.0776 - policy_loss: 2.8619 - value_loss: 0.2149 - val_loss: 3.3588 - val_policy_loss: 3.1311 - val_value_loss: 0.2208\n",
            "Epoch 3/8\n",
            "90000/90000 [==============================] - 25s 280us/sample - loss: 2.8969 - policy_loss: 2.6835 - value_loss: 0.2126 - val_loss: 3.5406 - val_policy_loss: 3.3084 - val_value_loss: 0.2286\n",
            "Epoch 4/8\n",
            "90000/90000 [==============================] - 25s 280us/sample - loss: 2.7310 - policy_loss: 2.5206 - value_loss: 0.2105 - val_loss: 3.4235 - val_policy_loss: 3.1996 - val_value_loss: 0.2230\n",
            "Epoch 5/8\n",
            "90000/90000 [==============================] - 25s 280us/sample - loss: 2.5878 - policy_loss: 2.3796 - value_loss: 0.2091 - val_loss: 3.4687 - val_policy_loss: 3.2478 - val_value_loss: 0.2214\n",
            "Epoch 6/8\n",
            "90000/90000 [==============================] - 25s 280us/sample - loss: 2.4570 - policy_loss: 2.2499 - value_loss: 0.2075 - val_loss: 3.4528 - val_policy_loss: 3.2294 - val_value_loss: 0.2256\n",
            "Epoch 7/8\n",
            "90000/90000 [==============================] - 25s 281us/sample - loss: 2.3384 - policy_loss: 2.1313 - value_loss: 0.2063 - val_loss: 3.8133 - val_policy_loss: 3.5717 - val_value_loss: 0.2322\n",
            "Epoch 8/8\n",
            "90000/90000 [==============================] - 25s 281us/sample - loss: 2.2417 - policy_loss: 2.0355 - value_loss: 0.2064 - val_loss: 4.0877 - val_policy_loss: 3.8639 - val_value_loss: 0.2307\n"
          ],
          "name": "stdout"
        }
      ]
    },
    {
      "cell_type": "code",
      "metadata": {
        "id": "G8BchKGgQ0zd",
        "colab_type": "code",
        "colab": {}
      },
      "source": [
        "flatloss =  []\n",
        "for x in historyloss :\n",
        "  for h in x:\n",
        "    flatloss.append(h)\n",
        "flatval = []\n",
        "for x in histoyvalloss :\n",
        "  for h in x:\n",
        "    flatval.append(h)"
      ],
      "execution_count": 0,
      "outputs": []
    },
    {
      "cell_type": "code",
      "metadata": {
        "id": "HXUqjO4Zfi9t",
        "colab_type": "code",
        "colab": {}
      },
      "source": [
        "from matplotlib import pyplot as plt\n",
        "from matplotlib.pyplot import figure"
      ],
      "execution_count": 0,
      "outputs": []
    },
    {
      "cell_type": "code",
      "metadata": {
        "id": "K3FHCKBvfYR2",
        "colab_type": "code",
        "outputId": "68a6ee78-3d0d-4b98-b42a-22066f8aae39",
        "colab": {
          "base_uri": "https://localhost:8080/",
          "height": 806
        }
      },
      "source": [
        "figure(num=None, figsize=(16, 12), dpi=80, facecolor='w', edgecolor='k')\n",
        "plt.plot(flatloss, label='Training loss') \n",
        "plt.plot(flatval, label='Validation loss') \n",
        "plt.title('Training and validation loss') \n",
        "plt.xlabel('Epochs') \n",
        "plt.ylabel('Loss') \n",
        "plt.legend() \n",
        "plt.show()"
      ],
      "execution_count": 0,
      "outputs": [
        {
          "output_type": "display_data",
          "data": {
            "image/png": "[encoded data removed]",
            "text/plain": [
              "<Figure size 1280x960 with 1 Axes>"
            ]
          },
          "metadata": {
            "tags": []
          }
        }
      ]
    },
    {
      "cell_type": "code",
      "metadata": {
        "id": "CkP9qitVhW-C",
        "colab_type": "code",
        "outputId": "2fadae60-4de1-47b7-94e2-cc7576864d90",
        "colab": {
          "base_uri": "https://localhost:8080/",
          "height": 1000
        }
      },
      "source": [
        "dynamicBatch = True\n",
        "\n",
        "#historyloss2 = []  \n",
        "#histoyvalloss2 = []\n",
        "for i in range(30):\n",
        "    print(\"BOUCLE : \",i)\n",
        "    if dynamicBatch:\n",
        "      N = 80000\n",
        "      input_data = np.random.randint(2, size=(N, 19, 19, planes))\n",
        "      input_data = input_data.astype ('float32')\n",
        "      \n",
        "      policy = np.random.randint(moves, size=(N,))\n",
        "      policy = keras.utils.to_categorical (policy)\n",
        "      \n",
        "      value = np.random.randint(2, size=(N,))\n",
        "      value = value.astype ('float32')\n",
        "      \n",
        "      end = np.random.randint(2, size=(N, 19, 19, 2))\n",
        "      end = end.astype ('float32')\n",
        "\n",
        "      golois.getBatch (input_data, policy, value, end)\n",
        "    else:\n",
        "      input_data = np.load ('input_data.npy')\n",
        "      policy = np.load ('policy.npy')\n",
        "      value = np.load ('value.npy')\n",
        "      end = np.load ('end.npy')\n",
        "\n",
        "    history = modelplot.fit(input_data, {'policy': policy, 'value': value},\n",
        "            epochs=1, batch_size=128, validation_split=0.1)\n",
        "    historyloss2.append(history.history['loss']) \n",
        "    histoyvalloss2.append(history.history['val_loss'])\n",
        "\n",
        "\n",
        "\n",
        "\n"
      ],
      "execution_count": 0,
      "outputs": [
        {
          "output_type": "stream",
          "text": [
            "BOUCLE :  0\n",
            "Train on 72000 samples, validate on 8000 samples\n",
            "72000/72000 [==============================] - 20s 283us/sample - loss: 2.9692 - policy_loss: 2.7538 - value_loss: 0.2154 - val_loss: 2.9566 - val_policy_loss: 2.7420 - val_value_loss: 0.2177\n",
            "BOUCLE :  1\n",
            "Train on 72000 samples, validate on 8000 samples\n",
            "72000/72000 [==============================] - 20s 283us/sample - loss: 2.9644 - policy_loss: 2.7484 - value_loss: 0.2157 - val_loss: 2.9798 - val_policy_loss: 2.7673 - val_value_loss: 0.2146\n",
            "BOUCLE :  2\n",
            "Train on 72000 samples, validate on 8000 samples\n",
            "72000/72000 [==============================] - 20s 283us/sample - loss: 2.9540 - policy_loss: 2.7389 - value_loss: 0.2151 - val_loss: 3.0044 - val_policy_loss: 2.7835 - val_value_loss: 0.2182\n",
            "BOUCLE :  3\n",
            "Train on 72000 samples, validate on 8000 samples\n",
            "72000/72000 [==============================] - 20s 283us/sample - loss: 2.9665 - policy_loss: 2.7517 - value_loss: 0.2148 - val_loss: 3.0113 - val_policy_loss: 2.7956 - val_value_loss: 0.2172\n",
            "BOUCLE :  4\n",
            "Train on 72000 samples, validate on 8000 samples\n",
            "72000/72000 [==============================] - 20s 282us/sample - loss: 2.9622 - policy_loss: 2.7469 - value_loss: 0.2150 - val_loss: 2.9861 - val_policy_loss: 2.7703 - val_value_loss: 0.2132\n",
            "BOUCLE :  5\n",
            "Train on 72000 samples, validate on 8000 samples\n",
            "72000/72000 [==============================] - 20s 282us/sample - loss: 2.9529 - policy_loss: 2.7377 - value_loss: 0.2151 - val_loss: 2.9308 - val_policy_loss: 2.7155 - val_value_loss: 0.2161\n",
            "BOUCLE :  6\n",
            "Train on 72000 samples, validate on 8000 samples\n",
            "72000/72000 [==============================] - 20s 283us/sample - loss: 2.9407 - policy_loss: 2.7264 - value_loss: 0.2146 - val_loss: 2.9499 - val_policy_loss: 2.7337 - val_value_loss: 0.2157\n",
            "BOUCLE :  7\n",
            "Train on 72000 samples, validate on 8000 samples\n",
            "72000/72000 [==============================] - 21s 287us/sample - loss: 2.9517 - policy_loss: 2.7375 - value_loss: 0.2142 - val_loss: 2.9063 - val_policy_loss: 2.6891 - val_value_loss: 0.2164\n",
            "BOUCLE :  8\n",
            "Train on 72000 samples, validate on 8000 samples\n",
            "72000/72000 [==============================] - 20s 281us/sample - loss: 2.9525 - policy_loss: 2.7379 - value_loss: 0.2147 - val_loss: 2.9403 - val_policy_loss: 2.7233 - val_value_loss: 0.2164\n",
            "BOUCLE :  9\n",
            "Train on 72000 samples, validate on 8000 samples\n",
            "72000/72000 [==============================] - 20s 281us/sample - loss: 2.9425 - policy_loss: 2.7281 - value_loss: 0.2144 - val_loss: 2.9716 - val_policy_loss: 2.7557 - val_value_loss: 0.2187\n",
            "BOUCLE :  10\n",
            "Train on 72000 samples, validate on 8000 samples\n",
            "72000/72000 [==============================] - 20s 282us/sample - loss: 2.9402 - policy_loss: 2.7258 - value_loss: 0.2148 - val_loss: 2.9657 - val_policy_loss: 2.7523 - val_value_loss: 0.2126\n",
            "BOUCLE :  11\n",
            "Train on 72000 samples, validate on 8000 samples\n",
            "72000/72000 [==============================] - 20s 281us/sample - loss: 2.9359 - policy_loss: 2.7215 - value_loss: 0.2143 - val_loss: 2.9802 - val_policy_loss: 2.7652 - val_value_loss: 0.2159\n",
            "BOUCLE :  12\n",
            "Train on 72000 samples, validate on 8000 samples\n",
            "72000/72000 [==============================] - 20s 281us/sample - loss: 2.9276 - policy_loss: 2.7133 - value_loss: 0.2140 - val_loss: 2.9286 - val_policy_loss: 2.7159 - val_value_loss: 0.2166\n",
            "BOUCLE :  13\n",
            "Train on 72000 samples, validate on 8000 samples\n",
            "72000/72000 [==============================] - 20s 281us/sample - loss: 2.9422 - policy_loss: 2.7273 - value_loss: 0.2151 - val_loss: 2.9457 - val_policy_loss: 2.7256 - val_value_loss: 0.2194\n",
            "BOUCLE :  14\n",
            "Train on 72000 samples, validate on 8000 samples\n",
            "72000/72000 [==============================] - 20s 281us/sample - loss: 2.9344 - policy_loss: 2.7201 - value_loss: 0.2142 - val_loss: 2.9188 - val_policy_loss: 2.7081 - val_value_loss: 0.2122\n",
            "BOUCLE :  15\n",
            "Train on 72000 samples, validate on 8000 samples\n",
            "72000/72000 [==============================] - 20s 282us/sample - loss: 2.9309 - policy_loss: 2.7155 - value_loss: 0.2153 - val_loss: 2.9282 - val_policy_loss: 2.7118 - val_value_loss: 0.2152\n",
            "BOUCLE :  16\n",
            "Train on 72000 samples, validate on 8000 samples\n",
            "72000/72000 [==============================] - 20s 282us/sample - loss: 2.9211 - policy_loss: 2.7065 - value_loss: 0.2146 - val_loss: 2.9561 - val_policy_loss: 2.7417 - val_value_loss: 0.2126\n",
            "BOUCLE :  17\n",
            "Train on 72000 samples, validate on 8000 samples\n",
            "72000/72000 [==============================] - 20s 282us/sample - loss: 2.9242 - policy_loss: 2.7097 - value_loss: 0.2146 - val_loss: 2.9355 - val_policy_loss: 2.7195 - val_value_loss: 0.2155\n",
            "BOUCLE :  18\n",
            "Train on 72000 samples, validate on 8000 samples\n",
            "72000/72000 [==============================] - 20s 282us/sample - loss: 2.9402 - policy_loss: 2.7246 - value_loss: 0.2152 - val_loss: 2.9737 - val_policy_loss: 2.7583 - val_value_loss: 0.2166\n",
            "BOUCLE :  19\n",
            "Train on 72000 samples, validate on 8000 samples\n",
            "72000/72000 [==============================] - 20s 282us/sample - loss: 2.9211 - policy_loss: 2.7068 - value_loss: 0.2146 - val_loss: 2.9488 - val_policy_loss: 2.7370 - val_value_loss: 0.2087\n",
            "BOUCLE :  20\n",
            "Train on 72000 samples, validate on 8000 samples\n",
            "72000/72000 [==============================] - 20s 281us/sample - loss: 2.9286 - policy_loss: 2.7157 - value_loss: 0.2130 - val_loss: 2.9411 - val_policy_loss: 2.7279 - val_value_loss: 0.2142\n",
            "BOUCLE :  21\n",
            "Train on 72000 samples, validate on 8000 samples\n",
            "72000/72000 [==============================] - 20s 281us/sample - loss: 2.9176 - policy_loss: 2.7030 - value_loss: 0.2146 - val_loss: 2.9355 - val_policy_loss: 2.7114 - val_value_loss: 0.2193\n",
            "BOUCLE :  22\n",
            "Train on 72000 samples, validate on 8000 samples\n",
            "72000/72000 [==============================] - 20s 284us/sample - loss: 2.9118 - policy_loss: 2.6971 - value_loss: 0.2145 - val_loss: 2.8819 - val_policy_loss: 2.6678 - val_value_loss: 0.2116\n",
            "BOUCLE :  23\n",
            "Train on 72000 samples, validate on 8000 samples\n",
            "72000/72000 [==============================] - 20s 281us/sample - loss: 2.9037 - policy_loss: 2.6898 - value_loss: 0.2138 - val_loss: 2.9345 - val_policy_loss: 2.7201 - val_value_loss: 0.2128\n",
            "BOUCLE :  24\n",
            "Train on 72000 samples, validate on 8000 samples\n",
            "72000/72000 [==============================] - 20s 281us/sample - loss: 2.9119 - policy_loss: 2.6978 - value_loss: 0.2139 - val_loss: 2.9280 - val_policy_loss: 2.7114 - val_value_loss: 0.2161\n",
            "BOUCLE :  25\n",
            "Train on 72000 samples, validate on 8000 samples\n",
            "72000/72000 [==============================] - 20s 281us/sample - loss: 2.9121 - policy_loss: 2.6983 - value_loss: 0.2138 - val_loss: 2.9710 - val_policy_loss: 2.7548 - val_value_loss: 0.2173\n",
            "BOUCLE :  26\n",
            "Train on 72000 samples, validate on 8000 samples\n",
            "72000/72000 [==============================] - 20s 281us/sample - loss: 2.9097 - policy_loss: 2.6971 - value_loss: 0.2129 - val_loss: 2.8903 - val_policy_loss: 2.6761 - val_value_loss: 0.2135\n",
            "BOUCLE :  27\n",
            "Train on 72000 samples, validate on 8000 samples\n",
            "72000/72000 [==============================] - 20s 280us/sample - loss: 2.9052 - policy_loss: 2.6906 - value_loss: 0.2145 - val_loss: 2.9207 - val_policy_loss: 2.6911 - val_value_loss: 0.2267\n",
            "BOUCLE :  28\n",
            "Train on 72000 samples, validate on 8000 samples\n",
            "72000/72000 [==============================] - 20s 281us/sample - loss: 2.9019 - policy_loss: 2.6886 - value_loss: 0.2137 - val_loss: 2.9053 - val_policy_loss: 2.6870 - val_value_loss: 0.2166\n",
            "BOUCLE :  29\n",
            "Train on 72000 samples, validate on 8000 samples\n",
            "72000/72000 [==============================] - 20s 281us/sample - loss: 2.9088 - policy_loss: 2.6954 - value_loss: 0.2136 - val_loss: 2.9229 - val_policy_loss: 2.7131 - val_value_loss: 0.2121\n"
          ],
          "name": "stdout"
        }
      ]
    },
    {
      "cell_type": "code",
      "metadata": {
        "id": "u7DCurtAkaDq",
        "colab_type": "code",
        "colab": {}
      },
      "source": [
        "flatloss2 =  []\n",
        "for x in historyloss2 :\n",
        "  for h in x:\n",
        "    flatloss2.append(h)\n",
        "flatval2 = []\n",
        "for x in histoyvalloss2 :\n",
        "  for h in x:\n",
        "    flatval2.append(h)"
      ],
      "execution_count": 0,
      "outputs": []
    },
    {
      "cell_type": "code",
      "metadata": {
        "id": "Lk1u8lZ1kgXJ",
        "colab_type": "code",
        "outputId": "2d78577e-7c29-4ffa-fcc6-9f46c101fe0d",
        "colab": {
          "base_uri": "https://localhost:8080/",
          "height": 806
        }
      },
      "source": [
        "figure(num=None, figsize=(16, 12), dpi=80, facecolor='w', edgecolor='k')\n",
        "plt.plot(flatloss2, label='Training loss') \n",
        "plt.plot(flatval2, label='Validation loss') \n",
        "plt.title('Training and validation loss') \n",
        "plt.xlabel('Epochs') \n",
        "plt.ylabel('Loss') \n",
        "plt.legend() \n",
        "plt.show()"
      ],
      "execution_count": 0,
      "outputs": [
        {
          "output_type": "display_data",
          "data": {
            "image/png": "[encoded data removed]",
            "text/plain": [
              "<Figure size 1280x960 with 1 Axes>"
            ]
          },
          "metadata": {
            "tags": []
          }
        }
      ]
    },
    {
      "cell_type": "code",
      "metadata": {
        "id": "AsZ0VpsLNF-j",
        "colab_type": "code",
        "colab": {}
      },
      "source": [
        "modelbest = tf.keras.models.load_model(\n",
        "      'GouteuxFinal.h5',\n",
        "    custom_objects=None,\n",
        "    compile=True)"
      ],
      "execution_count": 0,
      "outputs": []
    },
    {
      "cell_type": "markdown",
      "metadata": {
        "id": "8L-OrT4SXe4f",
        "colab_type": "text"
      },
      "source": [
        "#ENTRAINEMENT PHASE 1  \n",
        "## 30 Boucles, N = 100 000 , 6 epochs, Learning rate = 0.1\n"
      ]
    },
    {
      "cell_type": "code",
      "metadata": {
        "id": "SKv1Nd4bXYnh",
        "colab_type": "code",
        "colab": {}
      },
      "source": [
        "dynamicBatch = True\n",
        "\n",
        "\n",
        "for i in range(30):\n",
        "    print(\"BOUCLE : \",i)\n",
        "    if dynamicBatch:\n",
        "      N = 100000\n",
        "      input_data = np.random.randint(2, size=(N, 19, 19, planes))\n",
        "      input_data = input_data.astype ('float32')\n",
        "      \n",
        "      policy = np.random.randint(moves, size=(N,))\n",
        "      policy = keras.utils.to_categorical (policy)\n",
        "      \n",
        "      value = np.random.randint(2, size=(N,))\n",
        "      value = value.astype ('float32')\n",
        "      \n",
        "      end = np.random.randint(2, size=(N, 19, 19, 2))\n",
        "      end = end.astype ('float32')\n",
        "\n",
        "      golois.getBatch (input_data, policy, value, end)\n",
        "    else:\n",
        "      input_data = np.load ('input_data.npy')\n",
        "      policy = np.load ('policy.npy')\n",
        "      value = np.load ('value.npy')\n",
        "      end = np.load ('end.npy')\n",
        "\n",
        "    modelbest.fit(input_data, {'policy': policy, 'value': value},\n",
        "            epochs=6, batch_size=128, validation_split=0.1)\n",
        "\n",
        "modelbest.save('GouteuxFinal')\n",
        "\n"
      ],
      "execution_count": 0,
      "outputs": []
    },
    {
      "cell_type": "markdown",
      "metadata": {
        "colab_type": "text",
        "id": "sZsO33rbX6Yh"
      },
      "source": [
        "#ENTRAINEMENT PHASE 2  \n",
        "## 100 Boucles, N = 50 000 , 1 epochs, Learning rate = 0.1\n"
      ]
    },
    {
      "cell_type": "code",
      "metadata": {
        "id": "w8X9yU32YCCM",
        "colab_type": "code",
        "colab": {}
      },
      "source": [
        "dynamicBatch = True\n",
        "\n",
        "\n",
        "for i in range(100):\n",
        "    print(\"BOUCLE : \",i)\n",
        "    if dynamicBatch:\n",
        "      N = 50000\n",
        "      input_data = np.random.randint(2, size=(N, 19, 19, planes))\n",
        "      input_data = input_data.astype ('float32')\n",
        "      \n",
        "      policy = np.random.randint(moves, size=(N,))\n",
        "      policy = keras.utils.to_categorical (policy)\n",
        "      \n",
        "      value = np.random.randint(2, size=(N,))\n",
        "      value = value.astype ('float32')\n",
        "      \n",
        "      end = np.random.randint(2, size=(N, 19, 19, 2))\n",
        "      end = end.astype ('float32')\n",
        "\n",
        "      golois.getBatch (input_data, policy, value, end)\n",
        "    else:\n",
        "      input_data = np.load ('input_data.npy')\n",
        "      policy = np.load ('policy.npy')\n",
        "      value = np.load ('value.npy')\n",
        "      end = np.load ('end.npy')\n",
        "\n",
        "    modelbest.fit(input_data, {'policy': policy, 'value': value},\n",
        "            epochs=1, batch_size=128, validation_split=0.1)\n",
        "\n",
        "modelbest.save('GouteuxFinal')\n",
        "\n"
      ],
      "execution_count": 0,
      "outputs": []
    },
    {
      "cell_type": "markdown",
      "metadata": {
        "colab_type": "text",
        "id": "_tN7MkPZYO1U"
      },
      "source": [
        "#ENTRAINEMENT PHASE 3  \n",
        "## 200 Boucles, N = 50 000 , 4 epochs, Learning rate = 0.01\n",
        "## 200 Boucles, N = 50 000 , 4 epochs, Learning rate = 0.002\n",
        "\n",
        "\n"
      ]
    },
    {
      "cell_type": "code",
      "metadata": {
        "id": "Na_jDnb3YxXD",
        "colab_type": "code",
        "colab": {}
      },
      "source": [
        "dynamicBatch = True\n",
        "\n",
        "modelbest.compile(optimizer=keras.optimizers.SGD(lr=0.01),\n",
        "              loss={'value': 'mse', 'policy': 'categorical_crossentropy'})\n",
        "\n",
        "for i in range(200):\n",
        "    print(\"BOUCLE : \",i)\n",
        "    if dynamicBatch:\n",
        "      N = 50000\n",
        "      input_data = np.random.randint(2, size=(N, 19, 19, planes))\n",
        "      input_data = input_data.astype ('float32')\n",
        "      \n",
        "      policy = np.random.randint(moves, size=(N,))\n",
        "      policy = keras.utils.to_categorical (policy)\n",
        "      \n",
        "      value = np.random.randint(2, size=(N,))\n",
        "      value = value.astype ('float32')\n",
        "      \n",
        "      end = np.random.randint(2, size=(N, 19, 19, 2))\n",
        "      end = end.astype ('float32')\n",
        "\n",
        "      golois.getBatch (input_data, policy, value, end)\n",
        "    else:\n",
        "      input_data = np.load ('input_data.npy')\n",
        "      policy = np.load ('policy.npy')\n",
        "      value = np.load ('value.npy')\n",
        "      end = np.load ('end.npy')\n",
        "\n",
        "    modelbest.fit(input_data, {'policy': policy, 'value': value},\n",
        "            epochs=4, batch_size=128, validation_split=0.1)\n",
        "\n",
        "\n",
        "modelbest.compile(optimizer=keras.optimizers.SGD(lr=0.002),\n",
        "              loss={'value': 'mse', 'policy': 'categorical_crossentropy'})\n",
        "\n",
        "for i in range(200):\n",
        "    print(\"BOUCLE : \",i)\n",
        "    if dynamicBatch:\n",
        "      N = 50000\n",
        "      input_data = np.random.randint(2, size=(N, 19, 19, planes))\n",
        "      input_data = input_data.astype ('float32')\n",
        "      \n",
        "      policy = np.random.randint(moves, size=(N,))\n",
        "      policy = keras.utils.to_categorical (policy)\n",
        "      \n",
        "      value = np.random.randint(2, size=(N,))\n",
        "      value = value.astype ('float32')\n",
        "      \n",
        "      end = np.random.randint(2, size=(N, 19, 19, 2))\n",
        "      end = end.astype ('float32')\n",
        "\n",
        "      golois.getBatch (input_data, policy, value, end)\n",
        "    else:\n",
        "      input_data = np.load ('input_data.npy')\n",
        "      policy = np.load ('policy.npy')\n",
        "      value = np.load ('value.npy')\n",
        "      end = np.load ('end.npy')\n",
        "\n",
        "    modelbest.fit(input_data, {'policy': policy, 'value': value},\n",
        "            epochs=4, batch_size=128, validation_split=0.1)\n",
        "\n",
        "\n",
        "modelbest.save('GouteuxFinal')\n",
        "\n"
      ],
      "execution_count": 0,
      "outputs": []
    },
    {
      "cell_type": "code",
      "metadata": {
        "id": "hWn2QRexp_V2",
        "colab_type": "code",
        "colab": {}
      },
      "source": [
        " # Test sur learning rate \n",
        "model1.compile(optimizer=keras.optimizers.SGD(learning_rate=0.002),\n",
        "              loss={'value': 'mse', 'policy': 'categorical_crossentropy'})\n",
        "model2.compile(optimizer=keras.optimizers.SGD(learning_rate=0.01),\n",
        "              loss={'value': 'mse', 'policy': 'categorical_crossentropy'})"
      ],
      "execution_count": 0,
      "outputs": []
    },
    {
      "cell_type": "code",
      "metadata": {
        "id": "McURAeX6KDOI",
        "colab_type": "code",
        "colab": {}
      },
      "source": [
        "dynamicBatch = True\n",
        "\n",
        "\n",
        "for i in range(200):\n",
        "    print(\"BOUCLE : \",i)\n",
        "    if dynamicBatch:\n",
        "      N = 50000\n",
        "      input_data = np.random.randint(2, size=(N, 19, 19, planes))\n",
        "      input_data = input_data.astype ('float32')\n",
        "      \n",
        "      policy = np.random.randint(moves, size=(N,))\n",
        "      policy = keras.utils.to_categorical (policy)\n",
        "      \n",
        "      value = np.random.randint(2, size=(N,))\n",
        "      value = value.astype ('float32')\n",
        "      \n",
        "      end = np.random.randint(2, size=(N, 19, 19, 2))\n",
        "      end = end.astype ('float32')\n",
        "\n",
        "      golois.getBatch (input_data, policy, value, end)\n",
        "    else:\n",
        "      input_data = np.load ('input_data.npy')\n",
        "      policy = np.load ('policy.npy')\n",
        "      value = np.load ('value.npy')\n",
        "      end = np.load ('end.npy')\n",
        "\n",
        "    model1.fit(input_data, {'policy': policy, 'value': value},\n",
        "            epochs=2, batch_size=128, validation_split=0.1)\n",
        "    model2.fit(input_data, {'policy': policy, 'value': value},\n",
        "            epochs=2, batch_size=128, validation_split=0.1)\n",
        "\n",
        "model1.save('GouteuxFinal2')\n",
        "\n"
      ],
      "execution_count": 0,
      "outputs": []
    },
    {
      "cell_type": "code",
      "metadata": {
        "id": "CRaXV1i0NMsr",
        "colab_type": "code",
        "outputId": "b9c0af50-d60b-4ad2-e88d-be1ef2458411",
        "colab": {
          "base_uri": "https://localhost:8080/",
          "height": 50
        }
      },
      "source": [
        "#Test\n",
        " N = 100000\n",
        "input_data_test = np.random.randint(2, size=(N, 19, 19, planes))\n",
        "input_data_test = input_data_test.astype ('float32')\n",
        "\n",
        "policy_test = np.random.randint(moves, size=(N,))\n",
        "policy_test = keras.utils.to_categorical (policy_test)\n",
        "\n",
        "value_test = np.random.randint(2, size=(N,))\n",
        "value_test = value_test.astype ('float32')\n",
        "\n",
        "end_test = np.random.randint(2, size=(N, 19, 19, 2))\n",
        "end_test = end_test.astype ('float32')\n",
        "\n",
        "golois.getBatch (input_data_test, policy_test, value_test, end_test)\n",
        "\n",
        "modelfinalgo.evaluate(input_data_test, {'policy': policy_test, 'value': value_test})"
      ],
      "execution_count": 8,
      "outputs": [
        {
          "output_type": "stream",
          "text": [
            "100000/100000 [==============================] - 25s 250us/sample - loss: 2.5019 - policy_loss: 2.2928 - value_loss: 0.2091\n"
          ],
          "name": "stdout"
        },
        {
          "output_type": "execute_result",
          "data": {
            "text/plain": [
              "[2.5019439861679076, 2.2928429, 0.20910242]"
            ]
          },
          "metadata": {
            "tags": []
          },
          "execution_count": 8
        }
      ]
    },
    {
      "cell_type": "code",
      "metadata": {
        "id": "EvffGY8XUa4h",
        "colab_type": "code",
        "colab": {}
      },
      "source": [
        ""
      ],
      "execution_count": 0,
      "outputs": []
    }
  ]
}